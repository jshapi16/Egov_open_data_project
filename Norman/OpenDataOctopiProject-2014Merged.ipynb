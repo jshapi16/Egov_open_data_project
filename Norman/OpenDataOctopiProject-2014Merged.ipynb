{
 "cells": [
  {
   "cell_type": "code",
   "execution_count": 1,
   "metadata": {},
   "outputs": [],
   "source": [
    "# Import dependencies\n",
    "import matplotlib.pyplot as plt\n",
    "import pandas as pd\n",
    "import scipy.stats as st\n",
    "\n",
    "odb2014_path = \"../2014OpenData.csv\"\n",
    "merged2014_path = \"../merged2014.csv\"\n",
    "\n",
    "odb2014 = pd.read_csv(\"../2014OpenData.csv\")\n",
    "merged2014 = pd.read_csv(\"../merged2014.csv\")"
   ]
  },
  {
   "cell_type": "code",
   "execution_count": 2,
   "metadata": {
    "scrolled": true
   },
   "outputs": [
    {
     "data": {
      "text/html": [
       "<div>\n",
       "<style scoped>\n",
       "    .dataframe tbody tr th:only-of-type {\n",
       "        vertical-align: middle;\n",
       "    }\n",
       "\n",
       "    .dataframe tbody tr th {\n",
       "        vertical-align: top;\n",
       "    }\n",
       "\n",
       "    .dataframe thead th {\n",
       "        text-align: right;\n",
       "    }\n",
       "</style>\n",
       "<table border=\"1\" class=\"dataframe\">\n",
       "  <thead>\n",
       "    <tr style=\"text-align: right;\">\n",
       "      <th></th>\n",
       "      <th>Year</th>\n",
       "      <th>Region</th>\n",
       "      <th>Income</th>\n",
       "      <th>ISO2</th>\n",
       "      <th>ISO3</th>\n",
       "      <th>ODB-Rank</th>\n",
       "      <th>Country</th>\n",
       "      <th>ODB-Score</th>\n",
       "      <th>Readiness</th>\n",
       "      <th>Implementation</th>\n",
       "      <th>...</th>\n",
       "      <th>Impact_Economic-Scaled</th>\n",
       "      <th>HDI</th>\n",
       "      <th>G20</th>\n",
       "      <th>G7</th>\n",
       "      <th>GDP-Per-Capita-Current-USD</th>\n",
       "      <th>2013-Rank</th>\n",
       "      <th>2013-ODB-Scaled</th>\n",
       "      <th>ODB Change</th>\n",
       "      <th>Rank Change</th>\n",
       "      <th>Cluster</th>\n",
       "    </tr>\n",
       "  </thead>\n",
       "  <tbody>\n",
       "    <tr>\n",
       "      <th>0</th>\n",
       "      <td>2014</td>\n",
       "      <td>Middle East &amp; North Africa</td>\n",
       "      <td>High income</td>\n",
       "      <td>AE</td>\n",
       "      <td>ARE</td>\n",
       "      <td>52</td>\n",
       "      <td>UAE</td>\n",
       "      <td>-0.113555</td>\n",
       "      <td>-0.011659</td>\n",
       "      <td>-0.480576</td>\n",
       "      <td>...</td>\n",
       "      <td>0</td>\n",
       "      <td>0.827</td>\n",
       "      <td>NaN</td>\n",
       "      <td>NaN</td>\n",
       "      <td>NaN</td>\n",
       "      <td>NaN</td>\n",
       "      <td>NaN</td>\n",
       "      <td>NaN</td>\n",
       "      <td>NaN</td>\n",
       "      <td>One sided initiative</td>\n",
       "    </tr>\n",
       "    <tr>\n",
       "      <th>1</th>\n",
       "      <td>2014</td>\n",
       "      <td>Latin America &amp; Caribbean</td>\n",
       "      <td>Upper middle income</td>\n",
       "      <td>AR</td>\n",
       "      <td>ARG</td>\n",
       "      <td>36</td>\n",
       "      <td>Argentina</td>\n",
       "      <td>0.023207</td>\n",
       "      <td>-0.174486</td>\n",
       "      <td>0.187631</td>\n",
       "      <td>...</td>\n",
       "      <td>20</td>\n",
       "      <td>0.808</td>\n",
       "      <td>G20</td>\n",
       "      <td>NaN</td>\n",
       "      <td>14715.18002</td>\n",
       "      <td>31.0</td>\n",
       "      <td>35.00</td>\n",
       "      <td>0.71</td>\n",
       "      <td>-5.0</td>\n",
       "      <td>Emerging and advancing</td>\n",
       "    </tr>\n",
       "    <tr>\n",
       "      <th>2</th>\n",
       "      <td>2014</td>\n",
       "      <td>East Asia &amp; Pacific</td>\n",
       "      <td>High income</td>\n",
       "      <td>AU</td>\n",
       "      <td>AUS</td>\n",
       "      <td>10</td>\n",
       "      <td>Australia</td>\n",
       "      <td>0.434557</td>\n",
       "      <td>1.185518</td>\n",
       "      <td>1.657688</td>\n",
       "      <td>...</td>\n",
       "      <td>40</td>\n",
       "      <td>0.933</td>\n",
       "      <td>G20</td>\n",
       "      <td>NaN</td>\n",
       "      <td>67468.06871</td>\n",
       "      <td>7.0</td>\n",
       "      <td>67.68</td>\n",
       "      <td>0.65</td>\n",
       "      <td>-3.0</td>\n",
       "      <td>High capacity</td>\n",
       "    </tr>\n",
       "    <tr>\n",
       "      <th>3</th>\n",
       "      <td>2014</td>\n",
       "      <td>Europe &amp; Central Asia</td>\n",
       "      <td>High income</td>\n",
       "      <td>AT</td>\n",
       "      <td>AUT</td>\n",
       "      <td>15</td>\n",
       "      <td>Austria</td>\n",
       "      <td>0.310956</td>\n",
       "      <td>0.906397</td>\n",
       "      <td>0.421504</td>\n",
       "      <td>...</td>\n",
       "      <td>59</td>\n",
       "      <td>0.881</td>\n",
       "      <td>NaN</td>\n",
       "      <td>NaN</td>\n",
       "      <td>49053.82290</td>\n",
       "      <td>18.0</td>\n",
       "      <td>46.03</td>\n",
       "      <td>12.49</td>\n",
       "      <td>3.0</td>\n",
       "      <td>High capacity</td>\n",
       "    </tr>\n",
       "    <tr>\n",
       "      <th>4</th>\n",
       "      <td>2014</td>\n",
       "      <td>Europe &amp; Central Asia</td>\n",
       "      <td>High income</td>\n",
       "      <td>BE</td>\n",
       "      <td>BEL</td>\n",
       "      <td>27</td>\n",
       "      <td>Belgium</td>\n",
       "      <td>0.169248</td>\n",
       "      <td>1.013088</td>\n",
       "      <td>-0.113062</td>\n",
       "      <td>...</td>\n",
       "      <td>61</td>\n",
       "      <td>0.881</td>\n",
       "      <td>NaN</td>\n",
       "      <td>NaN</td>\n",
       "      <td>45387.17553</td>\n",
       "      <td>31.0</td>\n",
       "      <td>34.80</td>\n",
       "      <td>12.49</td>\n",
       "      <td>4.0</td>\n",
       "      <td>High capacity</td>\n",
       "    </tr>\n",
       "  </tbody>\n",
       "</table>\n",
       "<p>5 rows × 45 columns</p>\n",
       "</div>"
      ],
      "text/plain": [
       "   Year                      Region               Income ISO2 ISO3  ODB-Rank  \\\n",
       "0  2014  Middle East & North Africa          High income   AE  ARE        52   \n",
       "1  2014   Latin America & Caribbean  Upper middle income   AR  ARG        36   \n",
       "2  2014         East Asia & Pacific          High income   AU  AUS        10   \n",
       "3  2014       Europe & Central Asia          High income   AT  AUT        15   \n",
       "4  2014       Europe & Central Asia          High income   BE  BEL        27   \n",
       "\n",
       "     Country  ODB-Score  Readiness  Implementation  ...  \\\n",
       "0        UAE  -0.113555  -0.011659       -0.480576  ...   \n",
       "1  Argentina   0.023207  -0.174486        0.187631  ...   \n",
       "2  Australia   0.434557   1.185518        1.657688  ...   \n",
       "3    Austria   0.310956   0.906397        0.421504  ...   \n",
       "4    Belgium   0.169248   1.013088       -0.113062  ...   \n",
       "\n",
       "   Impact_Economic-Scaled    HDI  G20   G7  GDP-Per-Capita-Current-USD  \\\n",
       "0                       0  0.827  NaN  NaN                         NaN   \n",
       "1                      20  0.808  G20  NaN                 14715.18002   \n",
       "2                      40  0.933  G20  NaN                 67468.06871   \n",
       "3                      59  0.881  NaN  NaN                 49053.82290   \n",
       "4                      61  0.881  NaN  NaN                 45387.17553   \n",
       "\n",
       "   2013-Rank  2013-ODB-Scaled  ODB Change  Rank Change                 Cluster  \n",
       "0        NaN              NaN         NaN          NaN    One sided initiative  \n",
       "1       31.0            35.00        0.71         -5.0  Emerging and advancing  \n",
       "2        7.0            67.68        0.65         -3.0           High capacity  \n",
       "3       18.0            46.03       12.49          3.0           High capacity  \n",
       "4       31.0            34.80       12.49          4.0           High capacity  \n",
       "\n",
       "[5 rows x 45 columns]"
      ]
     },
     "execution_count": 2,
     "metadata": {},
     "output_type": "execute_result"
    }
   ],
   "source": [
    "# Check imported data\n",
    "odb2014.head()"
   ]
  },
  {
   "cell_type": "code",
   "execution_count": 3,
   "metadata": {
    "scrolled": true
   },
   "outputs": [
    {
     "data": {
      "text/html": [
       "<div>\n",
       "<style scoped>\n",
       "    .dataframe tbody tr th:only-of-type {\n",
       "        vertical-align: middle;\n",
       "    }\n",
       "\n",
       "    .dataframe tbody tr th {\n",
       "        vertical-align: top;\n",
       "    }\n",
       "\n",
       "    .dataframe thead th {\n",
       "        text-align: right;\n",
       "    }\n",
       "</style>\n",
       "<table border=\"1\" class=\"dataframe\">\n",
       "  <thead>\n",
       "    <tr style=\"text-align: right;\">\n",
       "      <th></th>\n",
       "      <th>Unnamed: 0</th>\n",
       "      <th>Year</th>\n",
       "      <th>Region</th>\n",
       "      <th>ISO2</th>\n",
       "      <th>ISO3</th>\n",
       "      <th>ODB-Rank</th>\n",
       "      <th>Country</th>\n",
       "      <th>ODB-Score-Scaled</th>\n",
       "      <th>Readiness-Scaled</th>\n",
       "      <th>Implementation-Innovation-Scaled</th>\n",
       "      <th>...</th>\n",
       "      <th>Impact-Social-Scaled</th>\n",
       "      <th>Impact-Economic-Scaled</th>\n",
       "      <th>Impact-Rank</th>\n",
       "      <th>Cluster-Group</th>\n",
       "      <th>E-Government Rank</th>\n",
       "      <th>E-Government Index</th>\n",
       "      <th>E-Participation Index</th>\n",
       "      <th>Online Service Index</th>\n",
       "      <th>Human Capital Index</th>\n",
       "      <th>Telecommunication Infrastructure Index</th>\n",
       "    </tr>\n",
       "  </thead>\n",
       "  <tbody>\n",
       "    <tr>\n",
       "      <th>0</th>\n",
       "      <td>2</td>\n",
       "      <td>2014</td>\n",
       "      <td>Europe &amp; Central Asia</td>\n",
       "      <td>SE</td>\n",
       "      <td>SWE</td>\n",
       "      <td>3</td>\n",
       "      <td>Sweden</td>\n",
       "      <td>83.70</td>\n",
       "      <td>100</td>\n",
       "      <td>67</td>\n",
       "      <td>...</td>\n",
       "      <td>91</td>\n",
       "      <td>53</td>\n",
       "      <td>4</td>\n",
       "      <td>High capacity</td>\n",
       "      <td>14</td>\n",
       "      <td>0.82250</td>\n",
       "      <td>0.60784</td>\n",
       "      <td>0.70078</td>\n",
       "      <td>0.8802</td>\n",
       "      <td>0.88656</td>\n",
       "    </tr>\n",
       "    <tr>\n",
       "      <th>1</th>\n",
       "      <td>3</td>\n",
       "      <td>2014</td>\n",
       "      <td>Europe &amp; Central Asia</td>\n",
       "      <td>FR</td>\n",
       "      <td>FRA</td>\n",
       "      <td>4</td>\n",
       "      <td>France</td>\n",
       "      <td>80.21</td>\n",
       "      <td>91</td>\n",
       "      <td>75</td>\n",
       "      <td>...</td>\n",
       "      <td>60</td>\n",
       "      <td>79</td>\n",
       "      <td>5</td>\n",
       "      <td>High capacity</td>\n",
       "      <td>4</td>\n",
       "      <td>0.89384</td>\n",
       "      <td>0.96078</td>\n",
       "      <td>1.00000</td>\n",
       "      <td>0.8812</td>\n",
       "      <td>0.80029</td>\n",
       "    </tr>\n",
       "    <tr>\n",
       "      <th>2</th>\n",
       "      <td>4</td>\n",
       "      <td>2014</td>\n",
       "      <td>East Asia &amp; Pacific</td>\n",
       "      <td>NZ</td>\n",
       "      <td>NZL</td>\n",
       "      <td>4</td>\n",
       "      <td>New Zealand</td>\n",
       "      <td>80.01</td>\n",
       "      <td>81</td>\n",
       "      <td>76</td>\n",
       "      <td>...</td>\n",
       "      <td>0</td>\n",
       "      <td>67</td>\n",
       "      <td>14</td>\n",
       "      <td>High capacity</td>\n",
       "      <td>9</td>\n",
       "      <td>0.86436</td>\n",
       "      <td>0.78431</td>\n",
       "      <td>0.84251</td>\n",
       "      <td>1.0000</td>\n",
       "      <td>0.75057</td>\n",
       "    </tr>\n",
       "    <tr>\n",
       "      <th>3</th>\n",
       "      <td>5</td>\n",
       "      <td>2014</td>\n",
       "      <td>Europe &amp; Central Asia</td>\n",
       "      <td>NL</td>\n",
       "      <td>NLD</td>\n",
       "      <td>6</td>\n",
       "      <td>Netherlands</td>\n",
       "      <td>75.79</td>\n",
       "      <td>95</td>\n",
       "      <td>79</td>\n",
       "      <td>...</td>\n",
       "      <td>26</td>\n",
       "      <td>46</td>\n",
       "      <td>13</td>\n",
       "      <td>High capacity</td>\n",
       "      <td>5</td>\n",
       "      <td>0.88966</td>\n",
       "      <td>1.00000</td>\n",
       "      <td>0.92913</td>\n",
       "      <td>0.9224</td>\n",
       "      <td>0.81751</td>\n",
       "    </tr>\n",
       "    <tr>\n",
       "      <th>4</th>\n",
       "      <td>6</td>\n",
       "      <td>2014</td>\n",
       "      <td>Europe &amp; Central Asia</td>\n",
       "      <td>NO</td>\n",
       "      <td>NOR</td>\n",
       "      <td>7</td>\n",
       "      <td>Norway</td>\n",
       "      <td>74.59</td>\n",
       "      <td>88</td>\n",
       "      <td>70</td>\n",
       "      <td>...</td>\n",
       "      <td>17</td>\n",
       "      <td>48</td>\n",
       "      <td>8</td>\n",
       "      <td>High capacity</td>\n",
       "      <td>13</td>\n",
       "      <td>0.83572</td>\n",
       "      <td>0.68627</td>\n",
       "      <td>0.75590</td>\n",
       "      <td>0.9380</td>\n",
       "      <td>0.81328</td>\n",
       "    </tr>\n",
       "  </tbody>\n",
       "</table>\n",
       "<p>5 rows × 24 columns</p>\n",
       "</div>"
      ],
      "text/plain": [
       "   Unnamed: 0  Year                 Region ISO2 ISO3  ODB-Rank      Country  \\\n",
       "0           2  2014  Europe & Central Asia   SE  SWE         3       Sweden   \n",
       "1           3  2014  Europe & Central Asia   FR  FRA         4       France   \n",
       "2           4  2014    East Asia & Pacific   NZ  NZL         4  New Zealand   \n",
       "3           5  2014  Europe & Central Asia   NL  NLD         6  Netherlands   \n",
       "4           6  2014  Europe & Central Asia   NO  NOR         7       Norway   \n",
       "\n",
       "   ODB-Score-Scaled  Readiness-Scaled  Implementation-Innovation-Scaled  ...  \\\n",
       "0             83.70               100                                67  ...   \n",
       "1             80.21                91                                75  ...   \n",
       "2             80.01                81                                76  ...   \n",
       "3             75.79                95                                79  ...   \n",
       "4             74.59                88                                70  ...   \n",
       "\n",
       "   Impact-Social-Scaled  Impact-Economic-Scaled  Impact-Rank  Cluster-Group  \\\n",
       "0                    91                      53            4  High capacity   \n",
       "1                    60                      79            5  High capacity   \n",
       "2                     0                      67           14  High capacity   \n",
       "3                    26                      46           13  High capacity   \n",
       "4                    17                      48            8  High capacity   \n",
       "\n",
       "   E-Government Rank  E-Government Index  E-Participation Index  \\\n",
       "0                 14             0.82250                0.60784   \n",
       "1                  4             0.89384                0.96078   \n",
       "2                  9             0.86436                0.78431   \n",
       "3                  5             0.88966                1.00000   \n",
       "4                 13             0.83572                0.68627   \n",
       "\n",
       "  Online Service Index  Human Capital Index  \\\n",
       "0              0.70078               0.8802   \n",
       "1              1.00000               0.8812   \n",
       "2              0.84251               1.0000   \n",
       "3              0.92913               0.9224   \n",
       "4              0.75590               0.9380   \n",
       "\n",
       "   Telecommunication Infrastructure Index  \n",
       "0                                 0.88656  \n",
       "1                                 0.80029  \n",
       "2                                 0.75057  \n",
       "3                                 0.81751  \n",
       "4                                 0.81328  \n",
       "\n",
       "[5 rows x 24 columns]"
      ]
     },
     "execution_count": 3,
     "metadata": {},
     "output_type": "execute_result"
    }
   ],
   "source": [
    "# Check imported data\n",
    "merged2014.head()"
   ]
  },
  {
   "cell_type": "code",
   "execution_count": 4,
   "metadata": {
    "scrolled": false
   },
   "outputs": [
    {
     "data": {
      "text/plain": [
       "Cluster-Group\n",
       "Capacity constrained      33\n",
       "Emerging and advancing    23\n",
       "High capacity             18\n",
       "One sided initiative       5\n",
       "Name: Region, dtype: int64"
      ]
     },
     "execution_count": 4,
     "metadata": {},
     "output_type": "execute_result"
    }
   ],
   "source": [
    "clusters = merged2014.groupby(\"Cluster-Group\")\n",
    "clusters[\"Region\"].count()"
   ]
  },
  {
   "cell_type": "code",
   "execution_count": 5,
   "metadata": {
    "scrolled": true
   },
   "outputs": [
    {
     "data": {
      "text/plain": [
       "[3, 2, 3, 3, 0, 3, 19]"
      ]
     },
     "execution_count": 5,
     "metadata": {},
     "output_type": "execute_result"
    }
   ],
   "source": [
    "capacity_constrained = merged2014[merged2014[\"Cluster-Group\"] == \"Capacity constrained\"]\n",
    "capacity_constrained_region = capacity_constrained.groupby(\"Region\")\n",
    "capacity_constrained_region_count = capacity_constrained_region[\"Region\"].count()\n",
    "capacity_constrained_region_count = capacity_constrained_region_count.tolist()\n",
    "capacity_constrained_region_count.insert(4, 0)\n",
    "capacity_constrained_region_count"
   ]
  },
  {
   "cell_type": "code",
   "execution_count": 6,
   "metadata": {},
   "outputs": [
    {
     "data": {
      "text/plain": [
       "[2, 8, 9, 2, 0, 1, 1]"
      ]
     },
     "execution_count": 6,
     "metadata": {},
     "output_type": "execute_result"
    }
   ],
   "source": [
    "emerging_and_advancing = merged2014[merged2014[\"Cluster-Group\"] == \"Emerging and advancing\"]\n",
    "emerging_and_advancing_region = emerging_and_advancing.groupby(\"Region\")\n",
    "emerging_and_advancing_region_count = emerging_and_advancing_region[\"Region\"].count()\n",
    "emerging_and_advancing_region_count = emerging_and_advancing_region_count.tolist()\n",
    "emerging_and_advancing_region_count.insert(4, 0)\n",
    "emerging_and_advancing_region_count"
   ]
  },
  {
   "cell_type": "code",
   "execution_count": 7,
   "metadata": {},
   "outputs": [
    {
     "data": {
      "text/plain": [
       "[4, 12, 0, 1, 1, 0, 0]"
      ]
     },
     "execution_count": 7,
     "metadata": {},
     "output_type": "execute_result"
    }
   ],
   "source": [
    "high_capacity = merged2014[merged2014[\"Cluster-Group\"] == \"High capacity\"]\n",
    "high_capacity_region = high_capacity.groupby(\"Region\")\n",
    "high_capacity_region_count = high_capacity_region[\"Region\"].count()\n",
    "high_capacity_region_count = high_capacity_region_count.tolist()\n",
    "high_capacity_region_count.insert(2, 0)\n",
    "high_capacity_region_count.insert(5, 0)\n",
    "high_capacity_region_count.insert(6, 0)\n",
    "high_capacity_region_count"
   ]
  },
  {
   "cell_type": "code",
   "execution_count": 8,
   "metadata": {
    "scrolled": true
   },
   "outputs": [
    {
     "data": {
      "text/plain": [
       "[1, 1, 0, 3, 0, 0, 0]"
      ]
     },
     "execution_count": 8,
     "metadata": {},
     "output_type": "execute_result"
    }
   ],
   "source": [
    "one_sided_initiative = merged2014[merged2014[\"Cluster-Group\"] == \"One sided initiative\"]\n",
    "one_sided_initiative_region = one_sided_initiative.groupby(\"Region\")\n",
    "one_sided_initiative_region_count = one_sided_initiative_region[\"Region\"].count()\n",
    "one_sided_initiative_region_count = one_sided_initiative_region_count.tolist()\n",
    "one_sided_initiative_region_count.insert(2, 0)\n",
    "one_sided_initiative_region_count.insert(4, 0)\n",
    "one_sided_initiative_region_count.insert(5, 0)\n",
    "one_sided_initiative_region_count.insert(6, 0)\n",
    "one_sided_initiative_region_count"
   ]
  },
  {
   "cell_type": "code",
   "execution_count": 26,
   "metadata": {
    "scrolled": true
   },
   "outputs": [
    {
     "data": {
      "image/png": "[encoded data removed]",
      "text/plain": [
       "<Figure size 432x288 with 1 Axes>"
      ]
     },
     "metadata": {
      "needs_background": "light"
     },
     "output_type": "display_data"
    }
   ],
   "source": [
    "regions = ['East Asia & Pacific', 'Europe & Central Asia', 'Latin America & Caribbean', 'Middle East & North Africa',\n",
    "           'North America', 'South Asia', 'Sub-Saharan']\n",
    "width = 0.2       # the width of the bars: can also be len(x) sequence\n",
    "\n",
    "fig, ax = plt.subplots()\n",
    "\n",
    "ax.bar(regions, capacity_constrained_region_count, width=width, label='Capacity constrained', align='center')\n",
    "ax.bar(regions, emerging_and_advancing_region_count, width=width, label='Emerging & advancing', align='center')\n",
    "ax.bar(regions, high_capacity_region_count, width=width, label='High capacity', align='center')\n",
    "ax.bar(regions, one_sided_initiative_region_count, width=width, label='One sided initiative', align='center')\n",
    "\n",
    "ax.set_xlabel('Region')\n",
    "ax.set_ylabel('Count')\n",
    "ax.set_title('Count of Cluster Groups in Each Region')\n",
    "ax.legend()\n",
    "ax.autoscale(tight=True)\n",
    "\n",
    "plt.show()"
   ]
  },
  {
   "cell_type": "code",
   "execution_count": 25,
   "metadata": {},
   "outputs": [
    {
     "ename": "ValueError",
     "evalue": "shape mismatch: objects cannot be broadcast to a single shape",
     "output_type": "error",
     "traceback": [
      "\u001b[1;31m---------------------------------------------------------------------------\u001b[0m",
      "\u001b[1;31mValueError\u001b[0m                                Traceback (most recent call last)",
      "\u001b[1;32m<ipython-input-25-85a70dd85169>\u001b[0m in \u001b[0;36m<module>\u001b[1;34m\u001b[0m\n\u001b[0;32m      7\u001b[0m \u001b[0max\u001b[0m\u001b[1;33m.\u001b[0m\u001b[0mbar\u001b[0m\u001b[1;33m(\u001b[0m\u001b[0mregions\u001b[0m\u001b[1;33m,\u001b[0m \u001b[0mcapacity_constrained_region_count\u001b[0m\u001b[1;33m,\u001b[0m \u001b[0mwidth\u001b[0m\u001b[1;33m,\u001b[0m \u001b[0mlabel\u001b[0m\u001b[1;33m=\u001b[0m\u001b[1;34m'Capacity constrained'\u001b[0m\u001b[1;33m)\u001b[0m\u001b[1;33m\u001b[0m\u001b[1;33m\u001b[0m\u001b[0m\n\u001b[0;32m      8\u001b[0m \u001b[0max\u001b[0m\u001b[1;33m.\u001b[0m\u001b[0mbar\u001b[0m\u001b[1;33m(\u001b[0m\u001b[0mregions\u001b[0m\u001b[1;33m,\u001b[0m \u001b[0memerging_and_advancing_region_count\u001b[0m\u001b[1;33m,\u001b[0m \u001b[0mwidth\u001b[0m\u001b[1;33m,\u001b[0m \u001b[0mbottom\u001b[0m\u001b[1;33m=\u001b[0m\u001b[0mcapacity_constrained_region_count\u001b[0m\u001b[1;33m,\u001b[0m \u001b[0mlabel\u001b[0m\u001b[1;33m=\u001b[0m\u001b[1;34m'Emerging & advancing'\u001b[0m\u001b[1;33m)\u001b[0m\u001b[1;33m\u001b[0m\u001b[1;33m\u001b[0m\u001b[0m\n\u001b[1;32m----> 9\u001b[1;33m \u001b[0max\u001b[0m\u001b[1;33m.\u001b[0m\u001b[0mbar\u001b[0m\u001b[1;33m(\u001b[0m\u001b[0mregions\u001b[0m\u001b[1;33m,\u001b[0m \u001b[0mhigh_capacity_region_count\u001b[0m\u001b[1;33m,\u001b[0m \u001b[0mwidth\u001b[0m\u001b[1;33m,\u001b[0m \u001b[0mbottom\u001b[0m\u001b[1;33m=\u001b[0m\u001b[0mcapacity_constrained_region_count\u001b[0m\u001b[1;33m+\u001b[0m\u001b[0memerging_and_advancing_region_count\u001b[0m\u001b[1;33m,\u001b[0m \u001b[0mlabel\u001b[0m\u001b[1;33m=\u001b[0m\u001b[1;34m'High capacity'\u001b[0m\u001b[1;33m)\u001b[0m\u001b[1;33m\u001b[0m\u001b[1;33m\u001b[0m\u001b[0m\n\u001b[0m\u001b[0;32m     10\u001b[0m \u001b[0max\u001b[0m\u001b[1;33m.\u001b[0m\u001b[0mbar\u001b[0m\u001b[1;33m(\u001b[0m\u001b[0mregions\u001b[0m\u001b[1;33m,\u001b[0m \u001b[0mone_sided_initiative_region_count\u001b[0m\u001b[1;33m,\u001b[0m \u001b[0mwidth\u001b[0m\u001b[1;33m,\u001b[0m \u001b[0mbottom\u001b[0m\u001b[1;33m=\u001b[0m\u001b[0mcapacity_constrained_region_count\u001b[0m\u001b[1;33m+\u001b[0m\u001b[0memerging_and_advancing_region_count\u001b[0m\u001b[1;33m+\u001b[0m\u001b[0mhigh_capacity_region_count\u001b[0m\u001b[1;33m,\u001b[0m \u001b[0mlabel\u001b[0m\u001b[1;33m=\u001b[0m\u001b[1;34m'One sided initiative'\u001b[0m\u001b[1;33m)\u001b[0m\u001b[1;33m\u001b[0m\u001b[1;33m\u001b[0m\u001b[0m\n\u001b[0;32m     11\u001b[0m \u001b[1;33m\u001b[0m\u001b[0m\n",
      "\u001b[1;32m~\\anaconda3\\lib\\site-packages\\matplotlib\\__init__.py\u001b[0m in \u001b[0;36minner\u001b[1;34m(ax, data, *args, **kwargs)\u001b[0m\n\u001b[0;32m   1436\u001b[0m     \u001b[1;32mdef\u001b[0m \u001b[0minner\u001b[0m\u001b[1;33m(\u001b[0m\u001b[0max\u001b[0m\u001b[1;33m,\u001b[0m \u001b[1;33m*\u001b[0m\u001b[0margs\u001b[0m\u001b[1;33m,\u001b[0m \u001b[0mdata\u001b[0m\u001b[1;33m=\u001b[0m\u001b[1;32mNone\u001b[0m\u001b[1;33m,\u001b[0m \u001b[1;33m**\u001b[0m\u001b[0mkwargs\u001b[0m\u001b[1;33m)\u001b[0m\u001b[1;33m:\u001b[0m\u001b[1;33m\u001b[0m\u001b[1;33m\u001b[0m\u001b[0m\n\u001b[0;32m   1437\u001b[0m         \u001b[1;32mif\u001b[0m \u001b[0mdata\u001b[0m \u001b[1;32mis\u001b[0m \u001b[1;32mNone\u001b[0m\u001b[1;33m:\u001b[0m\u001b[1;33m\u001b[0m\u001b[1;33m\u001b[0m\u001b[0m\n\u001b[1;32m-> 1438\u001b[1;33m             \u001b[1;32mreturn\u001b[0m \u001b[0mfunc\u001b[0m\u001b[1;33m(\u001b[0m\u001b[0max\u001b[0m\u001b[1;33m,\u001b[0m \u001b[1;33m*\u001b[0m\u001b[0mmap\u001b[0m\u001b[1;33m(\u001b[0m\u001b[0msanitize_sequence\u001b[0m\u001b[1;33m,\u001b[0m \u001b[0margs\u001b[0m\u001b[1;33m)\u001b[0m\u001b[1;33m,\u001b[0m \u001b[1;33m**\u001b[0m\u001b[0mkwargs\u001b[0m\u001b[1;33m)\u001b[0m\u001b[1;33m\u001b[0m\u001b[1;33m\u001b[0m\u001b[0m\n\u001b[0m\u001b[0;32m   1439\u001b[0m \u001b[1;33m\u001b[0m\u001b[0m\n\u001b[0;32m   1440\u001b[0m         \u001b[0mbound\u001b[0m \u001b[1;33m=\u001b[0m \u001b[0mnew_sig\u001b[0m\u001b[1;33m.\u001b[0m\u001b[0mbind\u001b[0m\u001b[1;33m(\u001b[0m\u001b[0max\u001b[0m\u001b[1;33m,\u001b[0m \u001b[1;33m*\u001b[0m\u001b[0margs\u001b[0m\u001b[1;33m,\u001b[0m \u001b[1;33m**\u001b[0m\u001b[0mkwargs\u001b[0m\u001b[1;33m)\u001b[0m\u001b[1;33m\u001b[0m\u001b[1;33m\u001b[0m\u001b[0m\n",
      "\u001b[1;32m~\\anaconda3\\lib\\site-packages\\matplotlib\\axes\\_axes.py\u001b[0m in \u001b[0;36mbar\u001b[1;34m(self, x, height, width, bottom, align, **kwargs)\u001b[0m\n\u001b[0;32m   2428\u001b[0m                 \u001b[0myerr\u001b[0m \u001b[1;33m=\u001b[0m \u001b[0mself\u001b[0m\u001b[1;33m.\u001b[0m\u001b[0m_convert_dx\u001b[0m\u001b[1;33m(\u001b[0m\u001b[0myerr\u001b[0m\u001b[1;33m,\u001b[0m \u001b[0my0\u001b[0m\u001b[1;33m,\u001b[0m \u001b[0my\u001b[0m\u001b[1;33m,\u001b[0m \u001b[0mself\u001b[0m\u001b[1;33m.\u001b[0m\u001b[0mconvert_yunits\u001b[0m\u001b[1;33m)\u001b[0m\u001b[1;33m\u001b[0m\u001b[1;33m\u001b[0m\u001b[0m\n\u001b[0;32m   2429\u001b[0m \u001b[1;33m\u001b[0m\u001b[0m\n\u001b[1;32m-> 2430\u001b[1;33m         x, height, width, y, linewidth = np.broadcast_arrays(\n\u001b[0m\u001b[0;32m   2431\u001b[0m             \u001b[1;31m# Make args iterable too.\u001b[0m\u001b[1;33m\u001b[0m\u001b[1;33m\u001b[0m\u001b[1;33m\u001b[0m\u001b[0m\n\u001b[0;32m   2432\u001b[0m             np.atleast_1d(x), height, width, y, linewidth)\n",
      "\u001b[1;32m<__array_function__ internals>\u001b[0m in \u001b[0;36mbroadcast_arrays\u001b[1;34m(*args, **kwargs)\u001b[0m\n",
      "\u001b[1;32m~\\anaconda3\\lib\\site-packages\\numpy\\lib\\stride_tricks.py\u001b[0m in \u001b[0;36mbroadcast_arrays\u001b[1;34m(subok, *args)\u001b[0m\n\u001b[0;32m    256\u001b[0m     \u001b[0margs\u001b[0m \u001b[1;33m=\u001b[0m \u001b[1;33m[\u001b[0m\u001b[0mnp\u001b[0m\u001b[1;33m.\u001b[0m\u001b[0marray\u001b[0m\u001b[1;33m(\u001b[0m\u001b[0m_m\u001b[0m\u001b[1;33m,\u001b[0m \u001b[0mcopy\u001b[0m\u001b[1;33m=\u001b[0m\u001b[1;32mFalse\u001b[0m\u001b[1;33m,\u001b[0m \u001b[0msubok\u001b[0m\u001b[1;33m=\u001b[0m\u001b[0msubok\u001b[0m\u001b[1;33m)\u001b[0m \u001b[1;32mfor\u001b[0m \u001b[0m_m\u001b[0m \u001b[1;32min\u001b[0m \u001b[0margs\u001b[0m\u001b[1;33m]\u001b[0m\u001b[1;33m\u001b[0m\u001b[1;33m\u001b[0m\u001b[0m\n\u001b[0;32m    257\u001b[0m \u001b[1;33m\u001b[0m\u001b[0m\n\u001b[1;32m--> 258\u001b[1;33m     \u001b[0mshape\u001b[0m \u001b[1;33m=\u001b[0m \u001b[0m_broadcast_shape\u001b[0m\u001b[1;33m(\u001b[0m\u001b[1;33m*\u001b[0m\u001b[0margs\u001b[0m\u001b[1;33m)\u001b[0m\u001b[1;33m\u001b[0m\u001b[1;33m\u001b[0m\u001b[0m\n\u001b[0m\u001b[0;32m    259\u001b[0m \u001b[1;33m\u001b[0m\u001b[0m\n\u001b[0;32m    260\u001b[0m     \u001b[1;32mif\u001b[0m \u001b[0mall\u001b[0m\u001b[1;33m(\u001b[0m\u001b[0marray\u001b[0m\u001b[1;33m.\u001b[0m\u001b[0mshape\u001b[0m \u001b[1;33m==\u001b[0m \u001b[0mshape\u001b[0m \u001b[1;32mfor\u001b[0m \u001b[0marray\u001b[0m \u001b[1;32min\u001b[0m \u001b[0margs\u001b[0m\u001b[1;33m)\u001b[0m\u001b[1;33m:\u001b[0m\u001b[1;33m\u001b[0m\u001b[1;33m\u001b[0m\u001b[0m\n",
      "\u001b[1;32m~\\anaconda3\\lib\\site-packages\\numpy\\lib\\stride_tricks.py\u001b[0m in \u001b[0;36m_broadcast_shape\u001b[1;34m(*args)\u001b[0m\n\u001b[0;32m    187\u001b[0m     \u001b[1;31m# use the old-iterator because np.nditer does not handle size 0 arrays\u001b[0m\u001b[1;33m\u001b[0m\u001b[1;33m\u001b[0m\u001b[1;33m\u001b[0m\u001b[0m\n\u001b[0;32m    188\u001b[0m     \u001b[1;31m# consistently\u001b[0m\u001b[1;33m\u001b[0m\u001b[1;33m\u001b[0m\u001b[1;33m\u001b[0m\u001b[0m\n\u001b[1;32m--> 189\u001b[1;33m     \u001b[0mb\u001b[0m \u001b[1;33m=\u001b[0m \u001b[0mnp\u001b[0m\u001b[1;33m.\u001b[0m\u001b[0mbroadcast\u001b[0m\u001b[1;33m(\u001b[0m\u001b[1;33m*\u001b[0m\u001b[0margs\u001b[0m\u001b[1;33m[\u001b[0m\u001b[1;33m:\u001b[0m\u001b[1;36m32\u001b[0m\u001b[1;33m]\u001b[0m\u001b[1;33m)\u001b[0m\u001b[1;33m\u001b[0m\u001b[1;33m\u001b[0m\u001b[0m\n\u001b[0m\u001b[0;32m    190\u001b[0m     \u001b[1;31m# unfortunately, it cannot handle 32 or more arguments directly\u001b[0m\u001b[1;33m\u001b[0m\u001b[1;33m\u001b[0m\u001b[1;33m\u001b[0m\u001b[0m\n\u001b[0;32m    191\u001b[0m     \u001b[1;32mfor\u001b[0m \u001b[0mpos\u001b[0m \u001b[1;32min\u001b[0m \u001b[0mrange\u001b[0m\u001b[1;33m(\u001b[0m\u001b[1;36m32\u001b[0m\u001b[1;33m,\u001b[0m \u001b[0mlen\u001b[0m\u001b[1;33m(\u001b[0m\u001b[0margs\u001b[0m\u001b[1;33m)\u001b[0m\u001b[1;33m,\u001b[0m \u001b[1;36m31\u001b[0m\u001b[1;33m)\u001b[0m\u001b[1;33m:\u001b[0m\u001b[1;33m\u001b[0m\u001b[1;33m\u001b[0m\u001b[0m\n",
      "\u001b[1;31mValueError\u001b[0m: shape mismatch: objects cannot be broadcast to a single shape"
     ]
    },
    {
     "data": {
      "image/png": "[encoded data removed]",
      "text/plain": [
       "<Figure size 432x288 with 1 Axes>"
      ]
     },
     "metadata": {
      "needs_background": "light"
     },
     "output_type": "display_data"
    }
   ],
   "source": [
    "regions = ['East Asia & Pacific', 'Europe & Central Asia', 'Latin America & Caribbean', 'Middle East & North Africa',\n",
    "           'North America', 'South Asia', 'Sub-Saharan']\n",
    "width = 0.5\n",
    "\n",
    "fig, ax = plt.subplots()\n",
    "\n",
    "ax.bar(regions, capacity_constrained_region_count, width, label='Capacity constrained')\n",
    "ax.bar(regions, emerging_and_advancing_region_count, width, bottom=capacity_constrained_region_count, label='Emerging & advancing')\n",
    "ax.bar(regions, high_capacity_region_count, width, bottom=capacity_constrained_region_count+emerging_and_advancing_region_count, label='High capacity')\n",
    "ax.bar(regions, one_sided_initiative_region_count, width, bottom=capacity_constrained_region_count+emerging_and_advancing_region_count+high_capacity_region_count, label='One sided initiative')\n",
    "\n",
    "ax.set_xlabel('Region')\n",
    "ax.set_ylabel('Count')\n",
    "ax.set_title('Count of Cluster Groups in Each Region')\n",
    "ax.legend()\n",
    "\n",
    "plt.show()"
   ]
  },
  {
   "cell_type": "markdown",
   "metadata": {},
   "source": [
    "# -------------------------------------------------------------"
   ]
  },
  {
   "cell_type": "code",
   "execution_count": null,
   "metadata": {
    "scrolled": true
   },
   "outputs": [],
   "source": [
    "regions = merged2014.groupby(\"Region\")\n",
    "regions[\"Cluster-Group\"].count()"
   ]
  },
  {
   "cell_type": "code",
   "execution_count": null,
   "metadata": {},
   "outputs": [],
   "source": [
    "east_asia_and_pacific_region = merged2014[merged2014[\"Region\"] == \"East Asia & Pacific\"]\n",
    "east_asia_and_pacific_region_cluster_group = east_asia_and_pacific_region.groupby(\"Cluster-Group\")\n",
    "east_asia_and_pacific_region_cluster_group_count = east_asia_and_pacific_region_cluster_group[\"Cluster-Group\"].count()\n",
    "east_asia_and_pacific_region_cluster_group_count = east_asia_and_pacific_region_cluster_group_count.tolist()\n",
    "east_asia_and_pacific_region_cluster_group_count"
   ]
  },
  {
   "cell_type": "code",
   "execution_count": null,
   "metadata": {},
   "outputs": [],
   "source": [
    "europe_and_central_asia_region = merged2014[merged2014[\"Region\"] == \"Europe & Central Asia\"]\n",
    "europe_and_central_asia_region_cluster_group = europe_and_central_asia_region.groupby(\"Cluster-Group\")\n",
    "europe_and_central_asia_region_cluster_group_count = europe_and_central_asia_region_cluster_group[\"Cluster-Group\"].count()\n",
    "europe_and_central_asia_region_cluster_group_count = europe_and_central_asia_region_cluster_group_count.tolist()\n",
    "europe_and_central_asia_region_cluster_group_count"
   ]
  },
  {
   "cell_type": "code",
   "execution_count": null,
   "metadata": {},
   "outputs": [],
   "source": [
    "latin_america_and_caribbean_region = merged2014[merged2014[\"Region\"] == \"Latin America & Caribbean\"]\n",
    "latin_america_and_caribbean_region_cluster_group = latin_america_and_caribbean_region.groupby(\"Cluster-Group\")\n",
    "latin_america_and_caribbean_region_cluster_group_count = latin_america_and_caribbean_region_cluster_group[\"Cluster-Group\"].count()\n",
    "latin_america_and_caribbean_region_cluster_group_count = latin_america_and_caribbean_region_cluster_group_count.tolist()\n",
    "latin_america_and_caribbean_region_cluster_group_count"
   ]
  },
  {
   "cell_type": "code",
   "execution_count": null,
   "metadata": {},
   "outputs": [],
   "source": []
  },
  {
   "cell_type": "code",
   "execution_count": null,
   "metadata": {},
   "outputs": [],
   "source": []
  },
  {
   "cell_type": "code",
   "execution_count": null,
   "metadata": {},
   "outputs": [],
   "source": []
  },
  {
   "cell_type": "code",
   "execution_count": null,
   "metadata": {},
   "outputs": [],
   "source": []
  },
  {
   "cell_type": "markdown",
   "metadata": {},
   "source": [
    "# Scatterplots of Unscaled vs ODB-Score (grouped by regions)\n",
    "\n",
    "### Key Findings:\n",
    "\n",
    "Europe & Central Asia consistently score high in for readiness, implementation, and impact.\n",
    "        Region consistently is strong as world leaders in all three categories. Could be due to shared EU members sharing policy and regulation\n",
    "    \n",
    "Sub-Saharan Africa and Middle East & North Africa score poorly.\n",
    "\n",
    "Latin America & Caribbean are middling for readiness and implementation, but score poorly in impact.\n",
    "        Suggests policy is in place and ready but haven't had time to take effect, or the policy is poor and isn't having effect."
   ]
  },
  {
   "cell_type": "code",
   "execution_count": null,
   "metadata": {},
   "outputs": [],
   "source": [
    "groups = odb2014.groupby(\"Region\")\n",
    "for name, group in groups:\n",
    "    plt.plot(group[\"Readiness\"], group[\"ODB-Score\"], marker=\"o\", linestyle=\"\", label=name)\n",
    "\n",
    "plt.title('Readiness vs ODB-Score')\n",
    "plt.xlabel('Readiness')\n",
    "plt.ylabel('ODB-Score')\n",
    "plt.legend()"
   ]
  },
  {
   "cell_type": "code",
   "execution_count": null,
   "metadata": {},
   "outputs": [],
   "source": [
    "groups = odb2014.groupby(\"Region\")\n",
    "for name, group in groups:\n",
    "    plt.plot(group[\"Implementation\"], group[\"ODB-Score\"], marker=\"o\", linestyle=\"\", label=name)\n",
    "\n",
    "plt.title('Implementation vs ODB-Score')\n",
    "plt.xlabel('Implementation')\n",
    "plt.ylabel('ODB-Score')\n",
    "plt.legend()"
   ]
  },
  {
   "cell_type": "code",
   "execution_count": null,
   "metadata": {},
   "outputs": [],
   "source": [
    "groups = odb2014.groupby(\"Region\")\n",
    "for name, group in groups:\n",
    "    plt.plot(group[\"Impact\"], group[\"ODB-Score\"], marker=\"o\", linestyle=\"\", label=name)\n",
    "\n",
    "plt.title('Impact vs ODB-Score')\n",
    "plt.xlabel('Impact')\n",
    "plt.ylabel('ODB-Score')\n",
    "plt.legend()"
   ]
  },
  {
   "cell_type": "markdown",
   "metadata": {},
   "source": [
    "# Scatterplots of Scaled vs ODB-Scaled (grouped by regions)\n",
    "\n",
    "### Key Findings:\n",
    "\n",
    "No difference between scaled and unscaled.\n",
    "If there is a difference, it's minute."
   ]
  },
  {
   "cell_type": "code",
   "execution_count": null,
   "metadata": {
    "scrolled": true
   },
   "outputs": [],
   "source": [
    "groups = odb2014.groupby(\"Region\")\n",
    "for name, group in groups:\n",
    "    plt.plot(group[\"Readiness-Scaled\"], group[\"ODB-Scaled\"], marker=\"o\", linestyle=\"\", label=name)\n",
    "\n",
    "plt.title('Scaled Readiness vs Scaled ODB-Score')\n",
    "plt.xlabel('Readiness-Scaled')\n",
    "plt.ylabel('ODB-Scaled')\n",
    "plt.legend()"
   ]
  },
  {
   "cell_type": "code",
   "execution_count": null,
   "metadata": {},
   "outputs": [],
   "source": [
    "groups = odb2014.groupby(\"Region\")\n",
    "for name, group in groups:\n",
    "    plt.plot(group[\"Implementation-Scaled\"], group[\"ODB-Scaled\"], marker=\"o\", linestyle=\"\", label=name)\n",
    "\n",
    "plt.title('Scaled Implementation vs Scaled ODB-Score')\n",
    "plt.xlabel('Implementation-Scaled')\n",
    "plt.ylabel('ODB-Scaled')\n",
    "plt.legend()"
   ]
  },
  {
   "cell_type": "code",
   "execution_count": null,
   "metadata": {},
   "outputs": [],
   "source": [
    "groups = odb2014.groupby(\"Region\")\n",
    "for name, group in groups:\n",
    "    plt.plot(group[\"Impact-Scaled\"], group[\"ODB-Scaled\"], marker=\"o\", linestyle=\"\", label=name)\n",
    "\n",
    "plt.title('Scaled Impact vs Scaled ODB-Score')\n",
    "plt.xlabel('Impact-Scaled')\n",
    "plt.ylabel('ODB-Scaled')\n",
    "plt.legend()"
   ]
  },
  {
   "cell_type": "markdown",
   "metadata": {},
   "source": [
    "# Scatterplots of Scaled vs ODB-Scaled (grouped by cluster)\n",
    "\n",
    "### Key Findings:\n",
    "\n",
    "Same scatter plot data but this time the data is highlighted by cluster instead of region.\n",
    "\n",
    "Thinking back to the regional highlights, the European and & Central Asian region is consistentl High capacity\n",
    "Sub-Saharan Africa and Middle East & North Africa are Capacity restrained or have One sided initiatives"
   ]
  },
  {
   "cell_type": "code",
   "execution_count": null,
   "metadata": {},
   "outputs": [],
   "source": [
    "groups = odb2014.groupby(\"Cluster\")\n",
    "for name, group in groups:\n",
    "    plt.plot(group[\"Readiness-Scaled\"], group[\"ODB-Scaled\"], marker=\"o\", linestyle=\"\", label=name)\n",
    "\n",
    "plt.title('Scaled Readiness vs Scaled ODB-Score')\n",
    "plt.xlabel('Readiness-Scaled')\n",
    "plt.ylabel('ODB-Scaled')\n",
    "plt.legend()"
   ]
  },
  {
   "cell_type": "code",
   "execution_count": null,
   "metadata": {},
   "outputs": [],
   "source": [
    "groups = odb2014.groupby(\"Cluster\")\n",
    "for name, group in groups:\n",
    "    plt.plot(group[\"Implementation-Scaled\"], group[\"ODB-Scaled\"], marker=\"o\", linestyle=\"\", label=name)\n",
    "\n",
    "plt.title('Scaled Implementation vs Scaled ODB-Score')\n",
    "plt.xlabel('Implementation-Scaled')\n",
    "plt.ylabel('ODB-Scaled')\n",
    "plt.legend()"
   ]
  },
  {
   "cell_type": "code",
   "execution_count": null,
   "metadata": {},
   "outputs": [],
   "source": [
    "groups = odb2014.groupby(\"Cluster\")\n",
    "for name, group in groups:\n",
    "    plt.plot(group[\"Impact-Scaled\"], group[\"ODB-Scaled\"], marker=\"o\", linestyle=\"\", label=name)\n",
    "\n",
    "plt.title('Scaled Impact vs Scaled ODB-Score')\n",
    "plt.xlabel('Impact-Scaled')\n",
    "plt.ylabel('ODB-Scaled')\n",
    "plt.legend()"
   ]
  },
  {
   "cell_type": "markdown",
   "metadata": {},
   "source": [
    "# Scatterplots of scaled ODB-Score to various indices used to calculate the E-Government Index\n",
    "\n",
    "Key Findings:\n",
    "\n",
    "ODB-Score and the E-Government Index are positively correlated, a good score or high index means a country is likely to do well in the other category as well.\n",
    "\n",
    "Scatterplots of ODB-Score and the various indices used to calculate the E-Government Index support this argument as well and are generally positively correlated."
   ]
  },
  {
   "cell_type": "code",
   "execution_count": null,
   "metadata": {
    "scrolled": true
   },
   "outputs": [],
   "source": [
    "plt.plot(merged2014[\"ODB-Score-Scaled\"], merged2014[\"E-Government Index\"], marker=\"o\", linestyle=\"\", label=name)\n",
    "\n",
    "plt.title('ODB-Score-Scaled vs E-Government Index')\n",
    "plt.xlabel('ODB-Score-Scaled')\n",
    "plt.ylabel('E-Government Index')"
   ]
  },
  {
   "cell_type": "code",
   "execution_count": null,
   "metadata": {},
   "outputs": [],
   "source": [
    "plt.plot(merged2014[\"ODB-Score-Scaled\"], merged2014[\"E-Participation Index\"], marker=\"o\", linestyle=\"\", label=name)\n",
    "\n",
    "plt.title('ODB-Score-Scaled vs E-Participation Index')\n",
    "plt.xlabel('ODB-Score-Scaled')\n",
    "plt.ylabel('E-Participation Index')"
   ]
  },
  {
   "cell_type": "code",
   "execution_count": null,
   "metadata": {},
   "outputs": [],
   "source": [
    "plt.plot(merged2014[\"ODB-Score-Scaled\"], merged2014[\"Online Service Index\"], marker=\"o\", linestyle=\"\", label=name)\n",
    "\n",
    "plt.title('ODB-Score-Scaled vs Online Service Index')\n",
    "plt.xlabel('ODB-Score-Scaled')\n",
    "plt.ylabel('Online Service Index')"
   ]
  },
  {
   "cell_type": "code",
   "execution_count": null,
   "metadata": {},
   "outputs": [],
   "source": [
    "plt.plot(merged2014[\"ODB-Score-Scaled\"], merged2014[\"Human Capital Index\"], marker=\"o\", linestyle=\"\", label=name)\n",
    "\n",
    "plt.title('ODB-Score-Scaled vs Human Capital Index')\n",
    "plt.xlabel('ODB-Score-Scaled')\n",
    "plt.ylabel('Human Capital Index')"
   ]
  },
  {
   "cell_type": "code",
   "execution_count": null,
   "metadata": {},
   "outputs": [],
   "source": [
    "plt.plot(merged2014[\"ODB-Score-Scaled\"], merged2014[\"Telecommunication Infrastructure Index\"], marker=\"o\", linestyle=\"\", label=name)\n",
    "\n",
    "plt.title('ODB-Score-Scaled vs Telecommunication Infrastructure Index')\n",
    "plt.xlabel('ODB-Score-Scaled')\n",
    "plt.ylabel('Telecommunication Infrastructure Index')"
   ]
  },
  {
   "cell_type": "markdown",
   "metadata": {},
   "source": [
    "# Scatterplots of scaled ODB-Score to various indices used to calculate the E-Government Index (grouped by region)"
   ]
  },
  {
   "cell_type": "code",
   "execution_count": null,
   "metadata": {
    "scrolled": true
   },
   "outputs": [],
   "source": [
    "groups = merged2014.groupby(\"Region\")\n",
    "for name, group in groups:\n",
    "    plt.plot(group[\"ODB-Score-Scaled\"], group[\"E-Government Index\"], marker=\"o\", linestyle=\"\", label=name)\n",
    "\n",
    "plt.title('ODB-Score-Scaled vs E-Government Index')\n",
    "plt.xlabel('ODB-Score-Scaled')\n",
    "plt.ylabel('E-Government Index')\n",
    "plt.legend()"
   ]
  },
  {
   "cell_type": "code",
   "execution_count": null,
   "metadata": {},
   "outputs": [],
   "source": [
    "groups = merged2014.groupby(\"Region\")\n",
    "for name, group in groups:\n",
    "    plt.plot(group[\"ODB-Score-Scaled\"], group[\"E-Participation Index\"], marker=\"o\", linestyle=\"\", label=name)\n",
    "\n",
    "plt.title('ODB-Score-Scaled vs E-Participation Index')\n",
    "plt.xlabel('ODB-Score-Scaled')\n",
    "plt.ylabel('E-Participation Index')\n",
    "plt.legend()"
   ]
  },
  {
   "cell_type": "code",
   "execution_count": null,
   "metadata": {},
   "outputs": [],
   "source": [
    "groups = merged2014.groupby(\"Region\")\n",
    "for name, group in groups:\n",
    "    plt.plot(group[\"ODB-Score-Scaled\"], group[\"Online Service Index\"], marker=\"o\", linestyle=\"\", label=name)\n",
    "\n",
    "plt.title('ODB-Score-Scaled vs Online Service Index')\n",
    "plt.xlabel('ODB-Score-Scaled')\n",
    "plt.ylabel('Online Service Index')\n",
    "plt.legend()"
   ]
  },
  {
   "cell_type": "code",
   "execution_count": null,
   "metadata": {},
   "outputs": [],
   "source": [
    "groups = merged2014.groupby(\"Region\")\n",
    "for name, group in groups:\n",
    "    plt.plot(group[\"ODB-Score-Scaled\"], group[\"Human Capital Index\"], marker=\"o\", linestyle=\"\", label=name)\n",
    "\n",
    "plt.title('ODB-Score-Scaled vs Human Capital Index')\n",
    "plt.xlabel('ODB-Score-Scaled')\n",
    "plt.ylabel('Human Capital Index')\n",
    "plt.legend()"
   ]
  },
  {
   "cell_type": "code",
   "execution_count": null,
   "metadata": {
    "scrolled": true
   },
   "outputs": [],
   "source": [
    "groups = merged2014.groupby(\"Region\")\n",
    "for name, group in groups:\n",
    "    plt.plot(group[\"ODB-Score-Scaled\"], group[\"Telecommunication Infrastructure Index\"], marker=\"o\", linestyle=\"\", label=name)\n",
    "\n",
    "plt.title('ODB-Score-Scaled vs Telecommunication Infrastructure Index')\n",
    "plt.xlabel('ODB-Score-Scaled')\n",
    "plt.ylabel('Telecommunication Infrastructure Index')\n",
    "plt.legend()"
   ]
  },
  {
   "cell_type": "markdown",
   "metadata": {},
   "source": [
    "# Scatterplot of ODB-Rank vs E-Government Rank\n",
    "\n",
    "Key Finding:\n",
    "\n",
    "Outcome is as expected, a poor ranking by either data set in general means a poor ranking by the other dataset (high rank is bad)."
   ]
  },
  {
   "cell_type": "code",
   "execution_count": null,
   "metadata": {},
   "outputs": [],
   "source": [
    "plt.plot(merged2014[\"ODB-Rank\"], merged2014[\"E-Government Rank\"], marker=\"o\", linestyle=\"\", label=name)\n",
    "\n",
    "plt.title('ODB-Rank vs E-Government Rank')\n",
    "plt.xlabel('ODB-Rank')\n",
    "plt.ylabel('E-Government Rank')"
   ]
  },
  {
   "cell_type": "markdown",
   "metadata": {},
   "source": [
    "# Scatterplot of ODB-Rank vs E-Government Rank (grouped by region)"
   ]
  },
  {
   "cell_type": "code",
   "execution_count": null,
   "metadata": {},
   "outputs": [],
   "source": [
    "groups = merged2014.groupby(\"Region\")\n",
    "for name, group in groups:\n",
    "    plt.plot(group[\"ODB-Rank\"], group[\"E-Government Rank\"], marker=\"o\", linestyle=\"\", label=name)\n",
    "\n",
    "plt.title('ODB-Rank vs E-Government Rank')\n",
    "plt.xlabel('ODB-Rank')\n",
    "plt.ylabel('E-Government Rank')\n",
    "plt.legend()"
   ]
  },
  {
   "cell_type": "markdown",
   "metadata": {},
   "source": [
    "Test Code (Please ignore)"
   ]
  },
  {
   "cell_type": "code",
   "execution_count": null,
   "metadata": {},
   "outputs": [],
   "source": [
    "region_groups = merged2014.groupby(\"Region\")\n",
    "for name, group in region_groups:\n",
    "    plt.plot(group[\"Readiness-Scaled\"], group[\"ODB-Score-Scaled\"], marker=\"o\", linestyle=\"\", label=name)\n",
    "\n",
    "plt.title('Readiness-Scaled vs ODB-Score-Scaled')\n",
    "plt.xlabel('Readiness-Scaled')\n",
    "plt.ylabel('ODB-Score-Scaled')\n",
    "plt.legend()"
   ]
  }
 ],
 "metadata": {
  "kernelspec": {
   "display_name": "Python 3",
   "language": "python",
   "name": "python3"
  },
  "language_info": {
   "codemirror_mode": {
    "name": "ipython",
    "version": 3
   },
   "file_extension": ".py",
   "mimetype": "text/x-python",
   "name": "python",
   "nbconvert_exporter": "python",
   "pygments_lexer": "ipython3",
   "version": "3.8.5"
  }
 },
 "nbformat": 4,
 "nbformat_minor": 4
}
