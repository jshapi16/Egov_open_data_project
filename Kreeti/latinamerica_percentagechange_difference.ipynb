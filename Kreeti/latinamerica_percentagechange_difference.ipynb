{
 "cells": [
  {
   "cell_type": "markdown",
   "metadata": {},
   "source": [
    "# Latin America & Caribbean Analysis "
   ]
  },
  {
   "cell_type": "markdown",
   "metadata": {},
   "source": [
    "## Graph and interperate percentage change and difference by year"
   ]
  },
  {
   "cell_type": "code",
   "execution_count": 1,
   "metadata": {},
   "outputs": [],
   "source": [
    "#import dependencies\n",
    "import pandas as pd\n",
    "import numpy as np\n",
    "import matplotlib.pyplot as plt\n",
    "import csv\n",
    "import os\n",
    "from pprint import pprint\n",
    "import requests\n",
    "import json\n",
    "import html\n",
    "from scipy.stats import linregress\n",
    "import statsmodels.api as sm\n",
    "import seaborn as sns"
   ]
  },
  {
   "cell_type": "code",
   "execution_count": 2,
   "metadata": {},
   "outputs": [],
   "source": [
    "csv_merge = \"../Resources/newmerge_1416.csv\"\n",
    "df_1416 = pd.read_csv(csv_merge)"
   ]
  },
  {
   "cell_type": "code",
   "execution_count": 3,
   "metadata": {},
   "outputs": [
    {
     "data": {
      "text/plain": [
       "Index(['Region_2014', 'ISO', 'ODB-Rank_2014', 'Country',\n",
       "       'ODB-Score-Scaled_2014', 'Readiness-Scaled_2014',\n",
       "       'Implementation-Innovation-Scaled_2014',\n",
       "       'Implementation-Social-Scaled_2014',\n",
       "       'Implementation-Accountability-Scaled_2014', 'Implementation-Rank_2014',\n",
       "       'Impact-Political-Scaled_2014', 'Impact-Social-Scaled_2014',\n",
       "       'Impact-Economic-Scaled_2014', 'Impact-Rank_2014', 'Cluster-Group',\n",
       "       'E-Government Rank_2014', 'E-Government Index_2014',\n",
       "       'E-Participation Index_2014', 'Online Service Index_2014',\n",
       "       'Human Capital Index_2014',\n",
       "       'Telecommunication Infrastructure Index_2014', 'ODB-Score-Scaled_2016',\n",
       "       'Readiness-Scaled_2016', 'Implementation-Innovation-Scaled_2016',\n",
       "       'Implementation-Social-Scaled_2016',\n",
       "       'Implementation-Accountability-Scaled_2016', 'Implementation-Rank_2016',\n",
       "       'Impact-Political-Scaled_2016', 'Impact-Social-Scaled_2016',\n",
       "       'Impact-Economic-Scaled_2016', 'Impact-Rank_2016',\n",
       "       'E-Government Rank_2016', 'E-Government Index_2016',\n",
       "       'E-Participation Index_2016', 'Online Service Index_2016',\n",
       "       'Human Capital Index_2016',\n",
       "       'Telecommunication Infrastructure Index_2016'],\n",
       "      dtype='object')"
      ]
     },
     "execution_count": 3,
     "metadata": {},
     "output_type": "execute_result"
    }
   ],
   "source": [
    "df_1416.columns"
   ]
  },
  {
   "cell_type": "markdown",
   "metadata": {},
   "source": [
    "## ODB Score Scaled"
   ]
  },
  {
   "cell_type": "code",
   "execution_count": 4,
   "metadata": {},
   "outputs": [],
   "source": [
    "df_1416_odbscore = df_1416[['Country', 'Region_2014', \"ODB-Score-Scaled_2014\", \"ODB-Score-Scaled_2016\"]]\n",
    "df_1416_odbscore = df_1416_odbscore[df_1416_odbscore['Region_2014'] == 'Latin America & Caribbean']\n",
    "df_1416_odbscore = df_1416_odbscore.reset_index(drop = True)"
   ]
  },
  {
   "cell_type": "markdown",
   "metadata": {},
   "source": [
    "### Calculating Percentage Change "
   ]
  },
  {
   "cell_type": "code",
   "execution_count": 5,
   "metadata": {},
   "outputs": [
    {
     "data": {
      "text/html": [
       "<div>\n",
       "<style scoped>\n",
       "    .dataframe tbody tr th:only-of-type {\n",
       "        vertical-align: middle;\n",
       "    }\n",
       "\n",
       "    .dataframe tbody tr th {\n",
       "        vertical-align: top;\n",
       "    }\n",
       "\n",
       "    .dataframe thead th {\n",
       "        text-align: right;\n",
       "    }\n",
       "</style>\n",
       "<table border=\"1\" class=\"dataframe\">\n",
       "  <thead>\n",
       "    <tr style=\"text-align: right;\">\n",
       "      <th></th>\n",
       "      <th>ODB-Score-Scaled_2014</th>\n",
       "      <th>ODB-Score-Scaled_2016</th>\n",
       "    </tr>\n",
       "  </thead>\n",
       "  <tbody>\n",
       "    <tr>\n",
       "      <th>0</th>\n",
       "      <td>58.70</td>\n",
       "      <td>47.41</td>\n",
       "    </tr>\n",
       "    <tr>\n",
       "      <th>1</th>\n",
       "      <td>52.13</td>\n",
       "      <td>58.86</td>\n",
       "    </tr>\n",
       "    <tr>\n",
       "      <th>2</th>\n",
       "      <td>50.09</td>\n",
       "      <td>73.45</td>\n",
       "    </tr>\n",
       "    <tr>\n",
       "      <th>3</th>\n",
       "      <td>49.37</td>\n",
       "      <td>60.85</td>\n",
       "    </tr>\n",
       "    <tr>\n",
       "      <th>4</th>\n",
       "      <td>37.74</td>\n",
       "      <td>33.33</td>\n",
       "    </tr>\n",
       "  </tbody>\n",
       "</table>\n",
       "</div>"
      ],
      "text/plain": [
       "   ODB-Score-Scaled_2014  ODB-Score-Scaled_2016\n",
       "0                  58.70                  47.41\n",
       "1                  52.13                  58.86\n",
       "2                  50.09                  73.45\n",
       "3                  49.37                  60.85\n",
       "4                  37.74                  33.33"
      ]
     },
     "execution_count": 5,
     "metadata": {},
     "output_type": "execute_result"
    }
   ],
   "source": [
    "df_1416_per = df_1416_odbscore[[\"ODB-Score-Scaled_2014\", \"ODB-Score-Scaled_2016\"]]\n",
    "df_1416_per.head()"
   ]
  },
  {
   "cell_type": "code",
   "execution_count": 6,
   "metadata": {},
   "outputs": [],
   "source": [
    "percentage = df_1416_per.pct_change(axis=1)"
   ]
  },
  {
   "cell_type": "code",
   "execution_count": 7,
   "metadata": {},
   "outputs": [
    {
     "data": {
      "text/plain": [
       "[-19.23,\n",
       " 12.91,\n",
       " 46.64,\n",
       " 23.25,\n",
       " -11.69,\n",
       " 5.04,\n",
       " -38.28,\n",
       " 59.51,\n",
       " -36.44,\n",
       " 40.71,\n",
       " -6.67,\n",
       " 426.89]"
      ]
     },
     "execution_count": 7,
     "metadata": {},
     "output_type": "execute_result"
    }
   ],
   "source": [
    "percentage = round(percentage * 100,2)\n",
    "percentage_2016 = percentage[\"ODB-Score-Scaled_2016\"].values.tolist()\n",
    "percentage_2016"
   ]
  },
  {
   "cell_type": "code",
   "execution_count": 8,
   "metadata": {},
   "outputs": [],
   "source": [
    "df_1416_odbscore.insert(4, \"Percentage Change\", percentage_2016, True)"
   ]
  },
  {
   "cell_type": "code",
   "execution_count": 9,
   "metadata": {},
   "outputs": [
    {
     "data": {
      "text/html": [
       "<div>\n",
       "<style scoped>\n",
       "    .dataframe tbody tr th:only-of-type {\n",
       "        vertical-align: middle;\n",
       "    }\n",
       "\n",
       "    .dataframe tbody tr th {\n",
       "        vertical-align: top;\n",
       "    }\n",
       "\n",
       "    .dataframe thead th {\n",
       "        text-align: right;\n",
       "    }\n",
       "</style>\n",
       "<table border=\"1\" class=\"dataframe\">\n",
       "  <thead>\n",
       "    <tr style=\"text-align: right;\">\n",
       "      <th></th>\n",
       "      <th>Country</th>\n",
       "      <th>Region_2014</th>\n",
       "      <th>ODB-Score-Scaled_2014</th>\n",
       "      <th>ODB-Score-Scaled_2016</th>\n",
       "      <th>Percentage Change</th>\n",
       "    </tr>\n",
       "  </thead>\n",
       "  <tbody>\n",
       "    <tr>\n",
       "      <th>0</th>\n",
       "      <td>Chile</td>\n",
       "      <td>Latin America &amp; Caribbean</td>\n",
       "      <td>58.70</td>\n",
       "      <td>47.41</td>\n",
       "      <td>-19.23</td>\n",
       "    </tr>\n",
       "    <tr>\n",
       "      <th>1</th>\n",
       "      <td>Brazil</td>\n",
       "      <td>Latin America &amp; Caribbean</td>\n",
       "      <td>52.13</td>\n",
       "      <td>58.86</td>\n",
       "      <td>12.91</td>\n",
       "    </tr>\n",
       "    <tr>\n",
       "      <th>2</th>\n",
       "      <td>Mexico</td>\n",
       "      <td>Latin America &amp; Caribbean</td>\n",
       "      <td>50.09</td>\n",
       "      <td>73.45</td>\n",
       "      <td>46.64</td>\n",
       "    </tr>\n",
       "    <tr>\n",
       "      <th>3</th>\n",
       "      <td>Uruguay</td>\n",
       "      <td>Latin America &amp; Caribbean</td>\n",
       "      <td>49.37</td>\n",
       "      <td>60.85</td>\n",
       "      <td>23.25</td>\n",
       "    </tr>\n",
       "    <tr>\n",
       "      <th>4</th>\n",
       "      <td>Peru</td>\n",
       "      <td>Latin America &amp; Caribbean</td>\n",
       "      <td>37.74</td>\n",
       "      <td>33.33</td>\n",
       "      <td>-11.69</td>\n",
       "    </tr>\n",
       "    <tr>\n",
       "      <th>5</th>\n",
       "      <td>Argentina</td>\n",
       "      <td>Latin America &amp; Caribbean</td>\n",
       "      <td>35.71</td>\n",
       "      <td>37.51</td>\n",
       "      <td>5.04</td>\n",
       "    </tr>\n",
       "    <tr>\n",
       "      <th>6</th>\n",
       "      <td>Ecuador</td>\n",
       "      <td>Latin America &amp; Caribbean</td>\n",
       "      <td>35.03</td>\n",
       "      <td>21.62</td>\n",
       "      <td>-38.28</td>\n",
       "    </tr>\n",
       "    <tr>\n",
       "      <th>7</th>\n",
       "      <td>Colombia</td>\n",
       "      <td>Latin America &amp; Caribbean</td>\n",
       "      <td>32.38</td>\n",
       "      <td>51.65</td>\n",
       "      <td>59.51</td>\n",
       "    </tr>\n",
       "    <tr>\n",
       "      <th>8</th>\n",
       "      <td>Costa Rica</td>\n",
       "      <td>Latin America &amp; Caribbean</td>\n",
       "      <td>31.26</td>\n",
       "      <td>19.87</td>\n",
       "      <td>-36.44</td>\n",
       "    </tr>\n",
       "    <tr>\n",
       "      <th>9</th>\n",
       "      <td>Jamaica</td>\n",
       "      <td>Latin America &amp; Caribbean</td>\n",
       "      <td>26.26</td>\n",
       "      <td>36.95</td>\n",
       "      <td>40.71</td>\n",
       "    </tr>\n",
       "    <tr>\n",
       "      <th>10</th>\n",
       "      <td>Venezuela</td>\n",
       "      <td>Latin America &amp; Caribbean</td>\n",
       "      <td>12.45</td>\n",
       "      <td>11.62</td>\n",
       "      <td>-6.67</td>\n",
       "    </tr>\n",
       "    <tr>\n",
       "      <th>11</th>\n",
       "      <td>Haiti</td>\n",
       "      <td>Latin America &amp; Caribbean</td>\n",
       "      <td>1.19</td>\n",
       "      <td>6.27</td>\n",
       "      <td>426.89</td>\n",
       "    </tr>\n",
       "  </tbody>\n",
       "</table>\n",
       "</div>"
      ],
      "text/plain": [
       "       Country                Region_2014  ODB-Score-Scaled_2014  \\\n",
       "0        Chile  Latin America & Caribbean                  58.70   \n",
       "1       Brazil  Latin America & Caribbean                  52.13   \n",
       "2       Mexico  Latin America & Caribbean                  50.09   \n",
       "3      Uruguay  Latin America & Caribbean                  49.37   \n",
       "4         Peru  Latin America & Caribbean                  37.74   \n",
       "5    Argentina  Latin America & Caribbean                  35.71   \n",
       "6      Ecuador  Latin America & Caribbean                  35.03   \n",
       "7     Colombia  Latin America & Caribbean                  32.38   \n",
       "8   Costa Rica  Latin America & Caribbean                  31.26   \n",
       "9      Jamaica  Latin America & Caribbean                  26.26   \n",
       "10   Venezuela  Latin America & Caribbean                  12.45   \n",
       "11       Haiti  Latin America & Caribbean                   1.19   \n",
       "\n",
       "    ODB-Score-Scaled_2016  Percentage Change  \n",
       "0                   47.41             -19.23  \n",
       "1                   58.86              12.91  \n",
       "2                   73.45              46.64  \n",
       "3                   60.85              23.25  \n",
       "4                   33.33             -11.69  \n",
       "5                   37.51               5.04  \n",
       "6                   21.62             -38.28  \n",
       "7                   51.65              59.51  \n",
       "8                   19.87             -36.44  \n",
       "9                   36.95              40.71  \n",
       "10                  11.62              -6.67  \n",
       "11                   6.27             426.89  "
      ]
     },
     "execution_count": 9,
     "metadata": {},
     "output_type": "execute_result"
    }
   ],
   "source": [
    "df_1416_odbscore"
   ]
  },
  {
   "cell_type": "code",
   "execution_count": 10,
   "metadata": {},
   "outputs": [],
   "source": [
    "#Add graphing at the end"
   ]
  },
  {
   "cell_type": "markdown",
   "metadata": {},
   "source": [
    "### Calculating Difference of Years"
   ]
  },
  {
   "cell_type": "code",
   "execution_count": 11,
   "metadata": {},
   "outputs": [],
   "source": [
    "df_1416_odbscore[\"Difference\"] = df_1416_odbscore[\"ODB-Score-Scaled_2016\"].sub(df_1416_odbscore[\"ODB-Score-Scaled_2014\"],axis=0)"
   ]
  },
  {
   "cell_type": "code",
   "execution_count": 12,
   "metadata": {},
   "outputs": [
    {
     "data": {
      "text/html": [
       "<div>\n",
       "<style scoped>\n",
       "    .dataframe tbody tr th:only-of-type {\n",
       "        vertical-align: middle;\n",
       "    }\n",
       "\n",
       "    .dataframe tbody tr th {\n",
       "        vertical-align: top;\n",
       "    }\n",
       "\n",
       "    .dataframe thead th {\n",
       "        text-align: right;\n",
       "    }\n",
       "</style>\n",
       "<table border=\"1\" class=\"dataframe\">\n",
       "  <thead>\n",
       "    <tr style=\"text-align: right;\">\n",
       "      <th></th>\n",
       "      <th>Country</th>\n",
       "      <th>Region_2014</th>\n",
       "      <th>ODB-Score-Scaled_2014</th>\n",
       "      <th>ODB-Score-Scaled_2016</th>\n",
       "      <th>Percentage Change</th>\n",
       "      <th>Difference</th>\n",
       "    </tr>\n",
       "  </thead>\n",
       "  <tbody>\n",
       "    <tr>\n",
       "      <th>0</th>\n",
       "      <td>Chile</td>\n",
       "      <td>Latin America &amp; Caribbean</td>\n",
       "      <td>58.70</td>\n",
       "      <td>47.41</td>\n",
       "      <td>-19.23</td>\n",
       "      <td>-11.29</td>\n",
       "    </tr>\n",
       "    <tr>\n",
       "      <th>1</th>\n",
       "      <td>Brazil</td>\n",
       "      <td>Latin America &amp; Caribbean</td>\n",
       "      <td>52.13</td>\n",
       "      <td>58.86</td>\n",
       "      <td>12.91</td>\n",
       "      <td>6.73</td>\n",
       "    </tr>\n",
       "    <tr>\n",
       "      <th>2</th>\n",
       "      <td>Mexico</td>\n",
       "      <td>Latin America &amp; Caribbean</td>\n",
       "      <td>50.09</td>\n",
       "      <td>73.45</td>\n",
       "      <td>46.64</td>\n",
       "      <td>23.36</td>\n",
       "    </tr>\n",
       "    <tr>\n",
       "      <th>3</th>\n",
       "      <td>Uruguay</td>\n",
       "      <td>Latin America &amp; Caribbean</td>\n",
       "      <td>49.37</td>\n",
       "      <td>60.85</td>\n",
       "      <td>23.25</td>\n",
       "      <td>11.48</td>\n",
       "    </tr>\n",
       "    <tr>\n",
       "      <th>4</th>\n",
       "      <td>Peru</td>\n",
       "      <td>Latin America &amp; Caribbean</td>\n",
       "      <td>37.74</td>\n",
       "      <td>33.33</td>\n",
       "      <td>-11.69</td>\n",
       "      <td>-4.41</td>\n",
       "    </tr>\n",
       "    <tr>\n",
       "      <th>5</th>\n",
       "      <td>Argentina</td>\n",
       "      <td>Latin America &amp; Caribbean</td>\n",
       "      <td>35.71</td>\n",
       "      <td>37.51</td>\n",
       "      <td>5.04</td>\n",
       "      <td>1.80</td>\n",
       "    </tr>\n",
       "    <tr>\n",
       "      <th>6</th>\n",
       "      <td>Ecuador</td>\n",
       "      <td>Latin America &amp; Caribbean</td>\n",
       "      <td>35.03</td>\n",
       "      <td>21.62</td>\n",
       "      <td>-38.28</td>\n",
       "      <td>-13.41</td>\n",
       "    </tr>\n",
       "    <tr>\n",
       "      <th>7</th>\n",
       "      <td>Colombia</td>\n",
       "      <td>Latin America &amp; Caribbean</td>\n",
       "      <td>32.38</td>\n",
       "      <td>51.65</td>\n",
       "      <td>59.51</td>\n",
       "      <td>19.27</td>\n",
       "    </tr>\n",
       "    <tr>\n",
       "      <th>8</th>\n",
       "      <td>Costa Rica</td>\n",
       "      <td>Latin America &amp; Caribbean</td>\n",
       "      <td>31.26</td>\n",
       "      <td>19.87</td>\n",
       "      <td>-36.44</td>\n",
       "      <td>-11.39</td>\n",
       "    </tr>\n",
       "    <tr>\n",
       "      <th>9</th>\n",
       "      <td>Jamaica</td>\n",
       "      <td>Latin America &amp; Caribbean</td>\n",
       "      <td>26.26</td>\n",
       "      <td>36.95</td>\n",
       "      <td>40.71</td>\n",
       "      <td>10.69</td>\n",
       "    </tr>\n",
       "    <tr>\n",
       "      <th>10</th>\n",
       "      <td>Venezuela</td>\n",
       "      <td>Latin America &amp; Caribbean</td>\n",
       "      <td>12.45</td>\n",
       "      <td>11.62</td>\n",
       "      <td>-6.67</td>\n",
       "      <td>-0.83</td>\n",
       "    </tr>\n",
       "    <tr>\n",
       "      <th>11</th>\n",
       "      <td>Haiti</td>\n",
       "      <td>Latin America &amp; Caribbean</td>\n",
       "      <td>1.19</td>\n",
       "      <td>6.27</td>\n",
       "      <td>426.89</td>\n",
       "      <td>5.08</td>\n",
       "    </tr>\n",
       "  </tbody>\n",
       "</table>\n",
       "</div>"
      ],
      "text/plain": [
       "       Country                Region_2014  ODB-Score-Scaled_2014  \\\n",
       "0        Chile  Latin America & Caribbean                  58.70   \n",
       "1       Brazil  Latin America & Caribbean                  52.13   \n",
       "2       Mexico  Latin America & Caribbean                  50.09   \n",
       "3      Uruguay  Latin America & Caribbean                  49.37   \n",
       "4         Peru  Latin America & Caribbean                  37.74   \n",
       "5    Argentina  Latin America & Caribbean                  35.71   \n",
       "6      Ecuador  Latin America & Caribbean                  35.03   \n",
       "7     Colombia  Latin America & Caribbean                  32.38   \n",
       "8   Costa Rica  Latin America & Caribbean                  31.26   \n",
       "9      Jamaica  Latin America & Caribbean                  26.26   \n",
       "10   Venezuela  Latin America & Caribbean                  12.45   \n",
       "11       Haiti  Latin America & Caribbean                   1.19   \n",
       "\n",
       "    ODB-Score-Scaled_2016  Percentage Change  Difference  \n",
       "0                   47.41             -19.23      -11.29  \n",
       "1                   58.86              12.91        6.73  \n",
       "2                   73.45              46.64       23.36  \n",
       "3                   60.85              23.25       11.48  \n",
       "4                   33.33             -11.69       -4.41  \n",
       "5                   37.51               5.04        1.80  \n",
       "6                   21.62             -38.28      -13.41  \n",
       "7                   51.65              59.51       19.27  \n",
       "8                   19.87             -36.44      -11.39  \n",
       "9                   36.95              40.71       10.69  \n",
       "10                  11.62              -6.67       -0.83  \n",
       "11                   6.27             426.89        5.08  "
      ]
     },
     "execution_count": 12,
     "metadata": {},
     "output_type": "execute_result"
    }
   ],
   "source": [
    "df_1416_odbscore\n",
    "#Format chart below % and rounded decimal points."
   ]
  },
  {
   "cell_type": "markdown",
   "metadata": {},
   "source": [
    "### Graphing"
   ]
  },
  {
   "cell_type": "markdown",
   "metadata": {},
   "source": [
    "#### 'Percentage Change' Bar Graph"
   ]
  },
  {
   "cell_type": "code",
   "execution_count": 13,
   "metadata": {},
   "outputs": [],
   "source": [
    "df_1416_odbscore = df_1416_odbscore.sort_values(by=\"Percentage Change\")\n",
    "df_1416_odbscore = df_1416_odbscore.reset_index(drop=True)\n",
    "\n",
    "x_axis = df_1416_odbscore[\"Country\"]\n",
    "y_axis = df_1416_odbscore[\"Percentage Change\"]\n",
    "\n",
    "def addlabels(x_axis,y_axis):\n",
    "    for i in range(len(x_axis)):\n",
    "        plt.text(i, y_axis[i], y_axis[i], ha = 'center')\n",
    "\n",
    "\n",
    "def weather_graphing(x_axis, y_axis, title, xlabel, ylabel):\n",
    "    #graphing\n",
    "    plt.figure(figsize=(20,10))\n",
    "    #The line below is for seaborn\n",
    "    sns.barplot(x = x_axis, y = y_axis, data = df_1416_odbscore, dodge=False)\n",
    "    plt.xlabel(xlabel)\n",
    "    plt.ylabel(ylabel)\n",
    "    plt.title(title)\n",
    "    plt.xticks(rotation=90)\n",
    "    plt.grid()\n",
    "    addlabels(x_axis, y_axis)\n",
    "    plt.savefig(\"../Images/Open Data Barometer Score Percentage Change_Latin America & Caribbean.png\")"
   ]
  },
  {
   "cell_type": "code",
   "execution_count": 15,
   "metadata": {},
   "outputs": [
    {
     "data": {
      "image/png": "[encoded data removed]",
      "text/plain": [
       "<Figure size 1440x720 with 1 Axes>"
      ]
     },
     "metadata": {},
     "output_type": "display_data"
    }
   ],
   "source": [
    "weather_graphing(x_axis, y_axis, \"Open Data Barometer Score Percentage Change, Latin America & Caribbean\", \"Country\", \"Percentage Change (%)\")\n",
    "sns.set_style('darkgrid')"
   ]
  },
  {
   "cell_type": "markdown",
   "metadata": {},
   "source": [
    "#### Stacked bar graph ODB Score 2014 and Difference"
   ]
  },
  {
   "cell_type": "code",
   "execution_count": 16,
   "metadata": {},
   "outputs": [
    {
     "data": {
      "image/png": "[encoded data removed]",
      "text/plain": [
       "<Figure size 1440x576 with 1 Axes>"
      ]
     },
     "metadata": {},
     "output_type": "display_data"
    }
   ],
   "source": [
    "df_1416_odbscore = df_1416_odbscore.sort_values(by=\"ODB-Score-Scaled_2014\")\n",
    "\n",
    "def addlabels(x,y2):\n",
    "    for i in range(len(x)):\n",
    "        plt.text(i, y2[i], y2[i], ha = 'center')\n",
    "\n",
    "# create data\n",
    "x = df_1416_odbscore[\"Country\"]\n",
    "y1 = df_1416_odbscore[\"ODB-Score-Scaled_2014\"]\n",
    "y2 = df_1416_odbscore['Difference']\n",
    "plt.figure(figsize=(20,8))\n",
    "# plot bars in stack manner\n",
    "plt.bar(x, y1, color='pink')\n",
    "plt.bar(x, y2, bottom=y1, color='yellow')\n",
    "plt.xticks(rotation=90)\n",
    "plt.xlabel(\"Country\")\n",
    "plt.ylabel(\"ODB Score 2014, Difference\")\n",
    "plt.title(\"ODB Score of 2014 and the Difference\")\n",
    "addlabels(x, y2)\n",
    "plt.show()"
   ]
  },
  {
   "cell_type": "markdown",
   "metadata": {},
   "source": [
    "## E-Government Index"
   ]
  },
  {
   "cell_type": "code",
   "execution_count": 17,
   "metadata": {},
   "outputs": [],
   "source": [
    "df_1416_egov = df_1416[['Country', 'Region_2014', 'E-Government Index_2014', 'E-Government Index_2016']]\n",
    "df_1416_egov = df_1416_egov[df_1416_egov['Region_2014'] == 'Latin America & Caribbean']\n",
    "df_1416_egov = df_1416_egov.reset_index(drop = True)"
   ]
  },
  {
   "cell_type": "markdown",
   "metadata": {},
   "source": [
    "### Calculating Percentage Change "
   ]
  },
  {
   "cell_type": "code",
   "execution_count": 18,
   "metadata": {},
   "outputs": [
    {
     "data": {
      "text/html": [
       "<div>\n",
       "<style scoped>\n",
       "    .dataframe tbody tr th:only-of-type {\n",
       "        vertical-align: middle;\n",
       "    }\n",
       "\n",
       "    .dataframe tbody tr th {\n",
       "        vertical-align: top;\n",
       "    }\n",
       "\n",
       "    .dataframe thead th {\n",
       "        text-align: right;\n",
       "    }\n",
       "</style>\n",
       "<table border=\"1\" class=\"dataframe\">\n",
       "  <thead>\n",
       "    <tr style=\"text-align: right;\">\n",
       "      <th></th>\n",
       "      <th>E-Government Index_2014</th>\n",
       "      <th>E-Government Index_2016</th>\n",
       "    </tr>\n",
       "  </thead>\n",
       "  <tbody>\n",
       "    <tr>\n",
       "      <th>0</th>\n",
       "      <td>0.71216</td>\n",
       "      <td>0.69492</td>\n",
       "    </tr>\n",
       "    <tr>\n",
       "      <th>1</th>\n",
       "      <td>0.60082</td>\n",
       "      <td>0.63769</td>\n",
       "    </tr>\n",
       "    <tr>\n",
       "      <th>2</th>\n",
       "      <td>0.57330</td>\n",
       "      <td>0.61953</td>\n",
       "    </tr>\n",
       "    <tr>\n",
       "      <th>3</th>\n",
       "      <td>0.74195</td>\n",
       "      <td>0.72367</td>\n",
       "    </tr>\n",
       "    <tr>\n",
       "      <th>4</th>\n",
       "      <td>0.54354</td>\n",
       "      <td>0.53815</td>\n",
       "    </tr>\n",
       "  </tbody>\n",
       "</table>\n",
       "</div>"
      ],
      "text/plain": [
       "   E-Government Index_2014  E-Government Index_2016\n",
       "0                  0.71216                  0.69492\n",
       "1                  0.60082                  0.63769\n",
       "2                  0.57330                  0.61953\n",
       "3                  0.74195                  0.72367\n",
       "4                  0.54354                  0.53815"
      ]
     },
     "execution_count": 18,
     "metadata": {},
     "output_type": "execute_result"
    }
   ],
   "source": [
    "df_egov_per = df_1416_egov[['E-Government Index_2014', 'E-Government Index_2016']]\n",
    "df_egov_per.head()"
   ]
  },
  {
   "cell_type": "code",
   "execution_count": 19,
   "metadata": {},
   "outputs": [
    {
     "data": {
      "text/plain": [
       "[-2.42, 6.14, 8.06, -2.46, -0.99, 10.66, 11.33, 1.04, 4.17, 3.32, -7.83, 6.79]"
      ]
     },
     "execution_count": 19,
     "metadata": {},
     "output_type": "execute_result"
    }
   ],
   "source": [
    "percentage = df_egov_per.pct_change(axis=1)\n",
    "percentage = round(percentage * 100,2)\n",
    "percentage_2016 = percentage[\"E-Government Index_2016\"].values.tolist()\n",
    "percentage_2016"
   ]
  },
  {
   "cell_type": "code",
   "execution_count": 20,
   "metadata": {},
   "outputs": [],
   "source": [
    "df_1416_egov.insert(4, \"Percentage Change\", percentage_2016, True)"
   ]
  },
  {
   "cell_type": "code",
   "execution_count": 21,
   "metadata": {},
   "outputs": [
    {
     "data": {
      "text/html": [
       "<div>\n",
       "<style scoped>\n",
       "    .dataframe tbody tr th:only-of-type {\n",
       "        vertical-align: middle;\n",
       "    }\n",
       "\n",
       "    .dataframe tbody tr th {\n",
       "        vertical-align: top;\n",
       "    }\n",
       "\n",
       "    .dataframe thead th {\n",
       "        text-align: right;\n",
       "    }\n",
       "</style>\n",
       "<table border=\"1\" class=\"dataframe\">\n",
       "  <thead>\n",
       "    <tr style=\"text-align: right;\">\n",
       "      <th></th>\n",
       "      <th>Country</th>\n",
       "      <th>Region_2014</th>\n",
       "      <th>E-Government Index_2014</th>\n",
       "      <th>E-Government Index_2016</th>\n",
       "      <th>Percentage Change</th>\n",
       "    </tr>\n",
       "  </thead>\n",
       "  <tbody>\n",
       "    <tr>\n",
       "      <th>0</th>\n",
       "      <td>Chile</td>\n",
       "      <td>Latin America &amp; Caribbean</td>\n",
       "      <td>0.71216</td>\n",
       "      <td>0.69492</td>\n",
       "      <td>-2.42</td>\n",
       "    </tr>\n",
       "    <tr>\n",
       "      <th>1</th>\n",
       "      <td>Brazil</td>\n",
       "      <td>Latin America &amp; Caribbean</td>\n",
       "      <td>0.60082</td>\n",
       "      <td>0.63769</td>\n",
       "      <td>6.14</td>\n",
       "    </tr>\n",
       "    <tr>\n",
       "      <th>2</th>\n",
       "      <td>Mexico</td>\n",
       "      <td>Latin America &amp; Caribbean</td>\n",
       "      <td>0.57330</td>\n",
       "      <td>0.61953</td>\n",
       "      <td>8.06</td>\n",
       "    </tr>\n",
       "    <tr>\n",
       "      <th>3</th>\n",
       "      <td>Uruguay</td>\n",
       "      <td>Latin America &amp; Caribbean</td>\n",
       "      <td>0.74195</td>\n",
       "      <td>0.72367</td>\n",
       "      <td>-2.46</td>\n",
       "    </tr>\n",
       "    <tr>\n",
       "      <th>4</th>\n",
       "      <td>Peru</td>\n",
       "      <td>Latin America &amp; Caribbean</td>\n",
       "      <td>0.54354</td>\n",
       "      <td>0.53815</td>\n",
       "      <td>-0.99</td>\n",
       "    </tr>\n",
       "    <tr>\n",
       "      <th>5</th>\n",
       "      <td>Argentina</td>\n",
       "      <td>Latin America &amp; Caribbean</td>\n",
       "      <td>0.63059</td>\n",
       "      <td>0.69780</td>\n",
       "      <td>10.66</td>\n",
       "    </tr>\n",
       "    <tr>\n",
       "      <th>6</th>\n",
       "      <td>Ecuador</td>\n",
       "      <td>Latin America &amp; Caribbean</td>\n",
       "      <td>0.50529</td>\n",
       "      <td>0.56254</td>\n",
       "      <td>11.33</td>\n",
       "    </tr>\n",
       "    <tr>\n",
       "      <th>7</th>\n",
       "      <td>Colombia</td>\n",
       "      <td>Latin America &amp; Caribbean</td>\n",
       "      <td>0.61730</td>\n",
       "      <td>0.62371</td>\n",
       "      <td>1.04</td>\n",
       "    </tr>\n",
       "    <tr>\n",
       "      <th>8</th>\n",
       "      <td>Costa Rica</td>\n",
       "      <td>Latin America &amp; Caribbean</td>\n",
       "      <td>0.60614</td>\n",
       "      <td>0.63142</td>\n",
       "      <td>4.17</td>\n",
       "    </tr>\n",
       "    <tr>\n",
       "      <th>9</th>\n",
       "      <td>Jamaica</td>\n",
       "      <td>Latin America &amp; Caribbean</td>\n",
       "      <td>0.43882</td>\n",
       "      <td>0.45340</td>\n",
       "      <td>3.32</td>\n",
       "    </tr>\n",
       "    <tr>\n",
       "      <th>10</th>\n",
       "      <td>Venezuela</td>\n",
       "      <td>Latin America &amp; Caribbean</td>\n",
       "      <td>0.55639</td>\n",
       "      <td>0.51285</td>\n",
       "      <td>-7.83</td>\n",
       "    </tr>\n",
       "    <tr>\n",
       "      <th>11</th>\n",
       "      <td>Haiti</td>\n",
       "      <td>Latin America &amp; Caribbean</td>\n",
       "      <td>0.18086</td>\n",
       "      <td>0.19314</td>\n",
       "      <td>6.79</td>\n",
       "    </tr>\n",
       "  </tbody>\n",
       "</table>\n",
       "</div>"
      ],
      "text/plain": [
       "       Country                Region_2014  E-Government Index_2014  \\\n",
       "0        Chile  Latin America & Caribbean                  0.71216   \n",
       "1       Brazil  Latin America & Caribbean                  0.60082   \n",
       "2       Mexico  Latin America & Caribbean                  0.57330   \n",
       "3      Uruguay  Latin America & Caribbean                  0.74195   \n",
       "4         Peru  Latin America & Caribbean                  0.54354   \n",
       "5    Argentina  Latin America & Caribbean                  0.63059   \n",
       "6      Ecuador  Latin America & Caribbean                  0.50529   \n",
       "7     Colombia  Latin America & Caribbean                  0.61730   \n",
       "8   Costa Rica  Latin America & Caribbean                  0.60614   \n",
       "9      Jamaica  Latin America & Caribbean                  0.43882   \n",
       "10   Venezuela  Latin America & Caribbean                  0.55639   \n",
       "11       Haiti  Latin America & Caribbean                  0.18086   \n",
       "\n",
       "    E-Government Index_2016  Percentage Change  \n",
       "0                   0.69492              -2.42  \n",
       "1                   0.63769               6.14  \n",
       "2                   0.61953               8.06  \n",
       "3                   0.72367              -2.46  \n",
       "4                   0.53815              -0.99  \n",
       "5                   0.69780              10.66  \n",
       "6                   0.56254              11.33  \n",
       "7                   0.62371               1.04  \n",
       "8                   0.63142               4.17  \n",
       "9                   0.45340               3.32  \n",
       "10                  0.51285              -7.83  \n",
       "11                  0.19314               6.79  "
      ]
     },
     "execution_count": 21,
     "metadata": {},
     "output_type": "execute_result"
    }
   ],
   "source": [
    "df_1416_egov"
   ]
  },
  {
   "cell_type": "markdown",
   "metadata": {},
   "source": [
    "### Calculating Difference of Years"
   ]
  },
  {
   "cell_type": "code",
   "execution_count": 22,
   "metadata": {},
   "outputs": [],
   "source": [
    "df_1416_egov[\"Difference\"] = df_1416_egov[\"E-Government Index_2016\"].sub(df_1416_egov[\"E-Government Index_2014\"],axis=0)"
   ]
  },
  {
   "cell_type": "code",
   "execution_count": 23,
   "metadata": {},
   "outputs": [
    {
     "data": {
      "text/html": [
       "<div>\n",
       "<style scoped>\n",
       "    .dataframe tbody tr th:only-of-type {\n",
       "        vertical-align: middle;\n",
       "    }\n",
       "\n",
       "    .dataframe tbody tr th {\n",
       "        vertical-align: top;\n",
       "    }\n",
       "\n",
       "    .dataframe thead th {\n",
       "        text-align: right;\n",
       "    }\n",
       "</style>\n",
       "<table border=\"1\" class=\"dataframe\">\n",
       "  <thead>\n",
       "    <tr style=\"text-align: right;\">\n",
       "      <th></th>\n",
       "      <th>Country</th>\n",
       "      <th>Region_2014</th>\n",
       "      <th>E-Government Index_2014</th>\n",
       "      <th>E-Government Index_2016</th>\n",
       "      <th>Percentage Change</th>\n",
       "      <th>Difference</th>\n",
       "    </tr>\n",
       "  </thead>\n",
       "  <tbody>\n",
       "    <tr>\n",
       "      <th>0</th>\n",
       "      <td>Chile</td>\n",
       "      <td>Latin America &amp; Caribbean</td>\n",
       "      <td>0.71216</td>\n",
       "      <td>0.69492</td>\n",
       "      <td>-2.42</td>\n",
       "      <td>-0.01724</td>\n",
       "    </tr>\n",
       "    <tr>\n",
       "      <th>1</th>\n",
       "      <td>Brazil</td>\n",
       "      <td>Latin America &amp; Caribbean</td>\n",
       "      <td>0.60082</td>\n",
       "      <td>0.63769</td>\n",
       "      <td>6.14</td>\n",
       "      <td>0.03687</td>\n",
       "    </tr>\n",
       "    <tr>\n",
       "      <th>2</th>\n",
       "      <td>Mexico</td>\n",
       "      <td>Latin America &amp; Caribbean</td>\n",
       "      <td>0.57330</td>\n",
       "      <td>0.61953</td>\n",
       "      <td>8.06</td>\n",
       "      <td>0.04623</td>\n",
       "    </tr>\n",
       "    <tr>\n",
       "      <th>3</th>\n",
       "      <td>Uruguay</td>\n",
       "      <td>Latin America &amp; Caribbean</td>\n",
       "      <td>0.74195</td>\n",
       "      <td>0.72367</td>\n",
       "      <td>-2.46</td>\n",
       "      <td>-0.01828</td>\n",
       "    </tr>\n",
       "    <tr>\n",
       "      <th>4</th>\n",
       "      <td>Peru</td>\n",
       "      <td>Latin America &amp; Caribbean</td>\n",
       "      <td>0.54354</td>\n",
       "      <td>0.53815</td>\n",
       "      <td>-0.99</td>\n",
       "      <td>-0.00539</td>\n",
       "    </tr>\n",
       "    <tr>\n",
       "      <th>5</th>\n",
       "      <td>Argentina</td>\n",
       "      <td>Latin America &amp; Caribbean</td>\n",
       "      <td>0.63059</td>\n",
       "      <td>0.69780</td>\n",
       "      <td>10.66</td>\n",
       "      <td>0.06721</td>\n",
       "    </tr>\n",
       "    <tr>\n",
       "      <th>6</th>\n",
       "      <td>Ecuador</td>\n",
       "      <td>Latin America &amp; Caribbean</td>\n",
       "      <td>0.50529</td>\n",
       "      <td>0.56254</td>\n",
       "      <td>11.33</td>\n",
       "      <td>0.05725</td>\n",
       "    </tr>\n",
       "    <tr>\n",
       "      <th>7</th>\n",
       "      <td>Colombia</td>\n",
       "      <td>Latin America &amp; Caribbean</td>\n",
       "      <td>0.61730</td>\n",
       "      <td>0.62371</td>\n",
       "      <td>1.04</td>\n",
       "      <td>0.00641</td>\n",
       "    </tr>\n",
       "    <tr>\n",
       "      <th>8</th>\n",
       "      <td>Costa Rica</td>\n",
       "      <td>Latin America &amp; Caribbean</td>\n",
       "      <td>0.60614</td>\n",
       "      <td>0.63142</td>\n",
       "      <td>4.17</td>\n",
       "      <td>0.02528</td>\n",
       "    </tr>\n",
       "    <tr>\n",
       "      <th>9</th>\n",
       "      <td>Jamaica</td>\n",
       "      <td>Latin America &amp; Caribbean</td>\n",
       "      <td>0.43882</td>\n",
       "      <td>0.45340</td>\n",
       "      <td>3.32</td>\n",
       "      <td>0.01458</td>\n",
       "    </tr>\n",
       "    <tr>\n",
       "      <th>10</th>\n",
       "      <td>Venezuela</td>\n",
       "      <td>Latin America &amp; Caribbean</td>\n",
       "      <td>0.55639</td>\n",
       "      <td>0.51285</td>\n",
       "      <td>-7.83</td>\n",
       "      <td>-0.04354</td>\n",
       "    </tr>\n",
       "    <tr>\n",
       "      <th>11</th>\n",
       "      <td>Haiti</td>\n",
       "      <td>Latin America &amp; Caribbean</td>\n",
       "      <td>0.18086</td>\n",
       "      <td>0.19314</td>\n",
       "      <td>6.79</td>\n",
       "      <td>0.01228</td>\n",
       "    </tr>\n",
       "  </tbody>\n",
       "</table>\n",
       "</div>"
      ],
      "text/plain": [
       "       Country                Region_2014  E-Government Index_2014  \\\n",
       "0        Chile  Latin America & Caribbean                  0.71216   \n",
       "1       Brazil  Latin America & Caribbean                  0.60082   \n",
       "2       Mexico  Latin America & Caribbean                  0.57330   \n",
       "3      Uruguay  Latin America & Caribbean                  0.74195   \n",
       "4         Peru  Latin America & Caribbean                  0.54354   \n",
       "5    Argentina  Latin America & Caribbean                  0.63059   \n",
       "6      Ecuador  Latin America & Caribbean                  0.50529   \n",
       "7     Colombia  Latin America & Caribbean                  0.61730   \n",
       "8   Costa Rica  Latin America & Caribbean                  0.60614   \n",
       "9      Jamaica  Latin America & Caribbean                  0.43882   \n",
       "10   Venezuela  Latin America & Caribbean                  0.55639   \n",
       "11       Haiti  Latin America & Caribbean                  0.18086   \n",
       "\n",
       "    E-Government Index_2016  Percentage Change  Difference  \n",
       "0                   0.69492              -2.42    -0.01724  \n",
       "1                   0.63769               6.14     0.03687  \n",
       "2                   0.61953               8.06     0.04623  \n",
       "3                   0.72367              -2.46    -0.01828  \n",
       "4                   0.53815              -0.99    -0.00539  \n",
       "5                   0.69780              10.66     0.06721  \n",
       "6                   0.56254              11.33     0.05725  \n",
       "7                   0.62371               1.04     0.00641  \n",
       "8                   0.63142               4.17     0.02528  \n",
       "9                   0.45340               3.32     0.01458  \n",
       "10                  0.51285              -7.83    -0.04354  \n",
       "11                  0.19314               6.79     0.01228  "
      ]
     },
     "execution_count": 23,
     "metadata": {},
     "output_type": "execute_result"
    }
   ],
   "source": [
    "df_1416_egov\n",
    "#Format chart below % and rounded decimal points."
   ]
  },
  {
   "cell_type": "markdown",
   "metadata": {},
   "source": [
    "### Graphing"
   ]
  },
  {
   "cell_type": "markdown",
   "metadata": {},
   "source": [
    "#### 'Percentage Change' Bar Graph"
   ]
  },
  {
   "cell_type": "code",
   "execution_count": 24,
   "metadata": {},
   "outputs": [],
   "source": [
    "df_1416_egov = df_1416_egov.sort_values(by=\"Percentage Change\")\n",
    "df_1416_egov = df_1416_egov.reset_index(drop=True)\n",
    "x_axis = df_1416_egov[\"Country\"]\n",
    "y_axis = df_1416_egov[\"Percentage Change\"]\n",
    "\n",
    "\n",
    "def addlabels(x_axis,y_axis):\n",
    "    for i in range(len(x_axis)):\n",
    "        plt.text(i, y_axis[i], y_axis[i], ha = 'center')\n",
    "\n",
    "\n",
    "def weather_graphing(x_axis, y_axis, title, xlabel, ylabel):\n",
    "    #graphing\n",
    "    plt.figure(figsize=(20,10))\n",
    "    #The line below is for seaborn\n",
    "    sns.barplot(x = x_axis, y = y_axis, data = df_1416_egov, dodge=False)\n",
    "    plt.xlabel(xlabel)\n",
    "    plt.ylabel(ylabel)\n",
    "    plt.title(title)\n",
    "    plt.xticks(rotation=90)\n",
    "    plt.grid()\n",
    "    addlabels(x_axis, y_axis)\n",
    "    plt.savefig(\"../Images/E-Government Index Percentage Change_Latin America & Caribbean.png\")"
   ]
  },
  {
   "cell_type": "code",
   "execution_count": 25,
   "metadata": {},
   "outputs": [
    {
     "data": {
      "image/png": "[encoded data removed]",
      "text/plain": [
       "<Figure size 1440x720 with 1 Axes>"
      ]
     },
     "metadata": {},
     "output_type": "display_data"
    }
   ],
   "source": [
    "weather_graphing(x_axis, y_axis, \"E-Government Index Percentage Change, Latin America & Caribbean\", \"Country\", \"Percentage Change (%)\")\n",
    "sns.set_style('darkgrid')"
   ]
  },
  {
   "cell_type": "markdown",
   "metadata": {},
   "source": [
    "#### Stacked bar graph ODB Score 2014 and Difference"
   ]
  },
  {
   "cell_type": "code",
   "execution_count": 26,
   "metadata": {},
   "outputs": [
    {
     "data": {
      "image/png": "[encoded data removed]",
      "text/plain": [
       "<Figure size 1440x576 with 1 Axes>"
      ]
     },
     "metadata": {},
     "output_type": "display_data"
    }
   ],
   "source": [
    "df_1416_egov = df_1416_egov.sort_values(by=\"E-Government Index_2014\")\n",
    "\n",
    "def addlabels(x,y2):\n",
    "    for i in range(len(x)):\n",
    "        plt.text(i, y2[i], y2[i], ha = 'center')\n",
    "\n",
    "# create data\n",
    "x = df_1416_egov[\"Country\"]\n",
    "y1 = df_1416_egov[\"E-Government Index_2014\"]\n",
    "y2 = df_1416_egov['Difference']\n",
    "plt.figure(figsize=(20,8))\n",
    "# plot bars in stack manner\n",
    "plt.bar(x, y1, color='pink')\n",
    "plt.bar(x, y2, bottom=y1, color='yellow')\n",
    "plt.xticks(rotation=90)\n",
    "plt.xlabel(\"Country\")\n",
    "plt.ylabel(\"E-Government Index 2014, Difference\")\n",
    "plt.title(\"E-Government Index 2014 and the Difference\")\n",
    "addlabels(x, y2)\n",
    "plt.show()"
   ]
  },
  {
   "cell_type": "markdown",
   "metadata": {},
   "source": [
    "## Human Capital "
   ]
  },
  {
   "cell_type": "code",
   "execution_count": 67,
   "metadata": {},
   "outputs": [],
   "source": [
    "# df_1416_hucap = df_1416[['Country', 'Region_2014', 'Human Capital Index_2014', 'Human Capital Index_2016']]\n",
    "# df_1416_hucap = df_1416_hucap[df_1416_hucap['Region_2014'] == 'Latin America & Caribbean']\n",
    "# df_1416_hucap = df_1416_hucap.reset_index(drop = True)"
   ]
  },
  {
   "cell_type": "markdown",
   "metadata": {},
   "source": [
    "### Calculating Percentage Change "
   ]
  },
  {
   "cell_type": "code",
   "execution_count": 68,
   "metadata": {},
   "outputs": [],
   "source": [
    "# df_cap_per = df_1416_hucap[['Human Capital Index_2014', 'Human Capital Index_2016']]\n",
    "# df_cap_per.head()"
   ]
  },
  {
   "cell_type": "code",
   "execution_count": 69,
   "metadata": {},
   "outputs": [],
   "source": [
    "# percentage = df_cap_per.pct_change(axis=1)\n",
    "# percentage = round(percentage * 100,2)\n",
    "# percentage_2016 = percentage[\"Human Capital Index_2016\"].values.tolist()\n",
    "# percentage_2016"
   ]
  },
  {
   "cell_type": "code",
   "execution_count": 70,
   "metadata": {},
   "outputs": [],
   "source": [
    "# df_1416_hucap.insert(4, \"Percentage Change\", percentage_2016, True)"
   ]
  },
  {
   "cell_type": "code",
   "execution_count": 71,
   "metadata": {},
   "outputs": [],
   "source": [
    "# df_1416_hucap"
   ]
  },
  {
   "cell_type": "markdown",
   "metadata": {},
   "source": [
    "### Calculating Difference of Years"
   ]
  },
  {
   "cell_type": "code",
   "execution_count": 72,
   "metadata": {},
   "outputs": [],
   "source": [
    "# df_1416_hucap[\"Difference\"] = df_1416_hucap[\"Human Capital Index_2016\"].sub(df_1416_hucap[\"Human Capital Index_2014\"],axis=0)"
   ]
  },
  {
   "cell_type": "code",
   "execution_count": 73,
   "metadata": {},
   "outputs": [],
   "source": [
    "# df_1416_hucap\n",
    "# #Format chart below % and rounded decimal points."
   ]
  },
  {
   "cell_type": "markdown",
   "metadata": {},
   "source": [
    "### Graphing"
   ]
  },
  {
   "cell_type": "markdown",
   "metadata": {},
   "source": [
    "#### 'Percentage Change' Bar Graph"
   ]
  },
  {
   "cell_type": "code",
   "execution_count": 74,
   "metadata": {},
   "outputs": [],
   "source": [
    "# df_1416_hucap = df_1416_hucap.sort_values(by=\"Percentage Change\", ascending=False)\n",
    "\n",
    "# x_axis = df_1416_hucap[\"Country\"]\n",
    "# y_axis = df_1416_hucap[\"Percentage Change\"]\n",
    "\n",
    "\n",
    "# def addlabels(x_axis,y_axis):\n",
    "#     for i in range(len(x_axis)):\n",
    "#         plt.text(i, y_axis[i], y_axis[i], ha = 'center')\n",
    "\n",
    "\n",
    "# def weather_graphing(x_axis, y_axis, title, xlabel, ylabel):\n",
    "#     #graphing\n",
    "#     plt.figure(figsize=(20,10))\n",
    "#     #The line below is for seaborn\n",
    "#     sns.barplot(x = x_axis, y = y_axis, data = df_1416_hucap, dodge=False)\n",
    "#     plt.xlabel(xlabel)\n",
    "#     plt.ylabel(ylabel)\n",
    "#     plt.title(title)\n",
    "#     plt.xticks(rotation=90)\n",
    "#     plt.grid()\n",
    "#     addlabels(x_axis, y_axis)"
   ]
  },
  {
   "cell_type": "code",
   "execution_count": 75,
   "metadata": {},
   "outputs": [],
   "source": [
    "# weather_graphing(x_axis, y_axis, \"Human Capital Index Percentage Change\", \"Country\", \"Percentage Change (%)\")\n",
    "# sns.set_style('darkgrid')"
   ]
  },
  {
   "cell_type": "markdown",
   "metadata": {},
   "source": [
    "#### Stacked bar graph ODB Score 2014 and Difference"
   ]
  },
  {
   "cell_type": "code",
   "execution_count": 76,
   "metadata": {},
   "outputs": [],
   "source": [
    "# df_1416_hucap = df_1416_hucap.sort_values(by=\"Human Capital Index_2014\")\n",
    "\n",
    "# def addlabels(x,y2):\n",
    "#     for i in range(len(x)):\n",
    "#         plt.text(i, y2[i], y2[i], ha = 'center')\n",
    "\n",
    "# # create data\n",
    "# x = df_1416_hucap[\"Country\"]\n",
    "# y1 = df_1416_hucap[\"Human Capital Index_2014\"]\n",
    "# y2 = df_1416_hucap['Difference']\n",
    "# plt.figure(figsize=(20,8))\n",
    "# # plot bars in stack manner\n",
    "# plt.bar(x, y1, color='pink')\n",
    "# plt.bar(x, y2, bottom=y1, color='yellow')\n",
    "# plt.xticks(rotation=90)\n",
    "# plt.xlabel(\"Country\")\n",
    "# plt.ylabel(\"Human Capital Index 2014, Difference\")\n",
    "# plt.title(\"Human Capital Index 2014 and the Difference\")\n",
    "# addlabels(x, y2)\n",
    "# plt.show()"
   ]
  },
  {
   "cell_type": "markdown",
   "metadata": {},
   "source": [
    "## Implementation Rank"
   ]
  },
  {
   "cell_type": "code",
   "execution_count": 77,
   "metadata": {},
   "outputs": [],
   "source": [
    "# df_1416_imp = df_1416[['Country', 'Region_2014', 'Implementation-Rank_2014', 'Implementation-Rank_2016']]\n",
    "# df_1416_imp = df_1416_imp[df_1416_imp['Region_2014'] == 'Latin America & Caribbean']\n",
    "# df_1416_imp = df_1416_imp.reset_index(drop = True)"
   ]
  },
  {
   "cell_type": "markdown",
   "metadata": {},
   "source": [
    "### Calculating Percentage Change "
   ]
  },
  {
   "cell_type": "code",
   "execution_count": 78,
   "metadata": {},
   "outputs": [],
   "source": [
    "# df_imp_per = df_1416_imp[['Implementation-Rank_2014', 'Implementation-Rank_2016']]\n",
    "# df_imp_per.head()"
   ]
  },
  {
   "cell_type": "code",
   "execution_count": 79,
   "metadata": {},
   "outputs": [],
   "source": [
    "# percentage = df_imp_per.pct_change(axis=1)\n",
    "# percentage = round(percentage * 100,2)\n",
    "# percentage_2016 = percentage['Implementation-Rank_2016'].values.tolist()\n",
    "# percentage_2016"
   ]
  },
  {
   "cell_type": "code",
   "execution_count": 80,
   "metadata": {},
   "outputs": [],
   "source": [
    "# df_1416_imp.insert(4, \"Percentage Change\", percentage_2016, True)"
   ]
  },
  {
   "cell_type": "code",
   "execution_count": 81,
   "metadata": {},
   "outputs": [],
   "source": [
    "# df_1416_imp"
   ]
  },
  {
   "cell_type": "markdown",
   "metadata": {},
   "source": [
    "### Calculating Difference of Years"
   ]
  },
  {
   "cell_type": "code",
   "execution_count": 82,
   "metadata": {},
   "outputs": [],
   "source": [
    "# df_1416_imp[\"Difference\"] = df_1416_imp['Implementation-Rank_2016'].sub(df_1416_imp['Implementation-Rank_2014'],axis=0)"
   ]
  },
  {
   "cell_type": "code",
   "execution_count": 83,
   "metadata": {},
   "outputs": [],
   "source": [
    "# df_1416_imp\n",
    "# #Format chart below % and rounded decimal points."
   ]
  },
  {
   "cell_type": "markdown",
   "metadata": {},
   "source": [
    "### Graphing"
   ]
  },
  {
   "cell_type": "markdown",
   "metadata": {},
   "source": [
    "#### 'Percentage Change' Bar Graph"
   ]
  },
  {
   "cell_type": "code",
   "execution_count": 84,
   "metadata": {},
   "outputs": [],
   "source": [
    "# df_1416_imp = df_1416_imp.sort_values(by=\"Percentage Change\", ascending=False)\n",
    "\n",
    "# x_axis = df_1416_imp[\"Country\"]\n",
    "# y_axis = df_1416_imp[\"Percentage Change\"]\n",
    "\n",
    "\n",
    "# def addlabels(x_axis,y_axis):\n",
    "#     for i in range(len(x_axis)):\n",
    "#         plt.text(i, y_axis[i], y_axis[i], ha = 'center')\n",
    "\n",
    "\n",
    "# def weather_graphing(x_axis, y_axis, title, xlabel, ylabel):\n",
    "#     #graphing\n",
    "#     plt.figure(figsize=(20,10))\n",
    "#     #The line below is for seaborn\n",
    "#     sns.barplot(x = x_axis, y = y_axis, data = df_1416_imp, dodge=False)\n",
    "#     plt.xlabel(xlabel)\n",
    "#     plt.ylabel(ylabel)\n",
    "#     plt.title(title)\n",
    "#     plt.xticks(rotation=90)\n",
    "#     plt.grid()\n",
    "#     addlabels(x_axis, y_axis)"
   ]
  },
  {
   "cell_type": "code",
   "execution_count": 85,
   "metadata": {},
   "outputs": [],
   "source": [
    "# weather_graphing(x_axis, y_axis, \"Implementation-Rank Percentage Change\", \"Country\", \"Percentage Change (%)\")\n",
    "# sns.set_style('darkgrid')"
   ]
  },
  {
   "cell_type": "markdown",
   "metadata": {},
   "source": [
    "#### Stacked bar graph ODB Score 2014 and Difference"
   ]
  },
  {
   "cell_type": "code",
   "execution_count": 86,
   "metadata": {},
   "outputs": [],
   "source": [
    "# df_1416_imp = df_1416_imp.sort_values(by=\"Implementation-Rank_2014\")\n",
    "\n",
    "# def addlabels(x,y2):\n",
    "#     for i in range(len(x)):\n",
    "#         plt.text(i, y2[i], y2[i], ha = 'center')\n",
    "\n",
    "# # create data\n",
    "# x = df_1416_imp[\"Country\"]\n",
    "# y1 = df_1416_imp[\"Implementation-Rank_2014\"]\n",
    "# y2 = df_1416_imp['Difference']\n",
    "# plt.figure(figsize=(20,8))\n",
    "# # plot bars in stack manner\n",
    "# plt.bar(x, y1, color='pink')\n",
    "# plt.bar(x, y2, bottom=y1, color='yellow')\n",
    "# plt.xticks(rotation=90)\n",
    "# plt.xlabel(\"Country\")\n",
    "# plt.ylabel(\"Implementation-Rank 2014, Difference\")\n",
    "# plt.title(\"Implementation-Rank 2014 and the Difference\")\n",
    "# addlabels(x, y2)\n",
    "# plt.show()"
   ]
  }
 ],
 "metadata": {
  "kernelspec": {
   "display_name": "Python 3",
   "language": "python",
   "name": "python3"
  },
  "language_info": {
   "codemirror_mode": {
    "name": "ipython",
    "version": 3
   },
   "file_extension": ".py",
   "mimetype": "text/x-python",
   "name": "python",
   "nbconvert_exporter": "python",
   "pygments_lexer": "ipython3",
   "version": "3.8.5"
  }
 },
 "nbformat": 4,
 "nbformat_minor": 4
}
